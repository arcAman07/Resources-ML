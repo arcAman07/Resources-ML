{
 "cells": [
  {
   "cell_type": "code",
   "execution_count": 1,
   "id": "8593d876",
   "metadata": {},
   "outputs": [],
   "source": [
    "using Pkg"
   ]
  },
  {
   "cell_type": "code",
   "execution_count": 2,
   "id": "d7dc772b",
   "metadata": {},
   "outputs": [
    {
     "name": "stderr",
     "output_type": "stream",
     "text": [
      "\u001b[32m\u001b[1m    Updating\u001b[22m\u001b[39m registry at `C:\\Users\\amans\\.julia\\registries\\General.toml`\n",
      "\u001b[32m\u001b[1m   Resolving\u001b[22m\u001b[39m package versions...\n",
      "\u001b[32m\u001b[1m  No Changes\u001b[22m\u001b[39m to `C:\\Users\\amans\\.julia\\environments\\v1.7\\Project.toml`\n",
      "\u001b[32m\u001b[1m  No Changes\u001b[22m\u001b[39m to `C:\\Users\\amans\\.julia\\environments\\v1.7\\Manifest.toml`\n"
     ]
    }
   ],
   "source": [
    "Pkg.add(\"ChainRulesCore\")"
   ]
  },
  {
   "cell_type": "code",
   "execution_count": 3,
   "id": "149c3754",
   "metadata": {},
   "outputs": [
    {
     "name": "stderr",
     "output_type": "stream",
     "text": [
      "\u001b[32m\u001b[1m   Resolving\u001b[22m\u001b[39m package versions...\n",
      "\u001b[32m\u001b[1m  No Changes\u001b[22m\u001b[39m to `C:\\Users\\amans\\.julia\\environments\\v1.7\\Project.toml`\n",
      "\u001b[32m\u001b[1m  No Changes\u001b[22m\u001b[39m to `C:\\Users\\amans\\.julia\\environments\\v1.7\\Manifest.toml`\n"
     ]
    }
   ],
   "source": [
    "Pkg.add(\"ChainRules\")"
   ]
  },
  {
   "cell_type": "code",
   "execution_count": 4,
   "id": "0467dbae",
   "metadata": {},
   "outputs": [
    {
     "name": "stderr",
     "output_type": "stream",
     "text": [
      "\u001b[32m\u001b[1m   Resolving\u001b[22m\u001b[39m package versions...\n",
      "\u001b[32m\u001b[1m  No Changes\u001b[22m\u001b[39m to `C:\\Users\\amans\\.julia\\environments\\v1.7\\Project.toml`\n",
      "\u001b[32m\u001b[1m  No Changes\u001b[22m\u001b[39m to `C:\\Users\\amans\\.julia\\environments\\v1.7\\Manifest.toml`\n"
     ]
    }
   ],
   "source": [
    "Pkg.add(\"ChainRulesTestUtils\")"
   ]
  },
  {
   "cell_type": "code",
   "execution_count": 5,
   "id": "8d909349",
   "metadata": {},
   "outputs": [],
   "source": [
    "using ChainRulesCore\n",
    "using ChainRules\n",
    "using ChainRulesTestUtils"
   ]
  },
  {
   "cell_type": "code",
   "execution_count": 6,
   "id": "2671d396",
   "metadata": {},
   "outputs": [],
   "source": [
    "using Zygote"
   ]
  },
  {
   "cell_type": "code",
   "execution_count": 7,
   "id": "c9a13c9b",
   "metadata": {},
   "outputs": [],
   "source": [
    "y, back = Zygote.pullback(sin, 0.5);"
   ]
  },
  {
   "cell_type": "code",
   "execution_count": 8,
   "id": "2c8f7c36",
   "metadata": {},
   "outputs": [
    {
     "data": {
      "text/plain": [
       "0.479425538604203"
      ]
     },
     "execution_count": 8,
     "metadata": {},
     "output_type": "execute_result"
    }
   ],
   "source": [
    "y"
   ]
  },
  {
   "cell_type": "code",
   "execution_count": 9,
   "id": "48e14698",
   "metadata": {},
   "outputs": [
    {
     "data": {
      "text/plain": [
       "0.479425538604203"
      ]
     },
     "execution_count": 9,
     "metadata": {},
     "output_type": "execute_result"
    }
   ],
   "source": [
    "sin(0.5)"
   ]
  },
  {
   "cell_type": "code",
   "execution_count": 10,
   "id": "dcfe2caa",
   "metadata": {},
   "outputs": [
    {
     "data": {
      "text/plain": [
       "dsin (generic function with 1 method)"
      ]
     },
     "execution_count": 10,
     "metadata": {},
     "output_type": "execute_result"
    }
   ],
   "source": [
    "dsin(x) = (sin(x), ȳ -> (ȳ * cos(x),))"
   ]
  },
  {
   "cell_type": "code",
   "execution_count": 11,
   "id": "6fc37b93",
   "metadata": {},
   "outputs": [
    {
     "data": {
      "text/plain": [
       "(0.479425538604203, var\"#1#2\"{Float64}(0.5))"
      ]
     },
     "execution_count": 11,
     "metadata": {},
     "output_type": "execute_result"
    }
   ],
   "source": [
    "dsin(0.5)"
   ]
  },
  {
   "cell_type": "code",
   "execution_count": 12,
   "id": "dc15b85f",
   "metadata": {},
   "outputs": [],
   "source": [
    "# Additionally, for signalling semantics, we distinguish between two tangent types representing a zero tangent. \n",
    "# NoTangent type represent situtations in which the tangent space does not exist, e.g. an index into an array can not be perturbed. \n",
    "# ZeroTangent is used for cases where the tangent happens to be zero, e.g. because the primal argument is not used in the computation."
   ]
  },
  {
   "cell_type": "code",
   "execution_count": 13,
   "id": "d6819dd5",
   "metadata": {},
   "outputs": [],
   "source": [
    "using ChainRulesCore\n",
    "\n",
    "function foo(x)\n",
    "    a = sin(x)\n",
    "    b = 0.2 + a\n",
    "    c = asin(b)\n",
    "    return c\n",
    "end\n",
    "\n",
    "# Define rules (alternatively get them for free via `using ChainRules`)\n",
    "@scalar_rule(sin(x), cos(x))\n",
    "@scalar_rule(+(x, y), (1.0, 1.0))\n",
    "@scalar_rule(asin(x), inv(sqrt(1 - x^2)))"
   ]
  },
  {
   "cell_type": "code",
   "execution_count": 14,
   "id": "0761f7bb",
   "metadata": {},
   "outputs": [
    {
     "data": {
      "text/plain": [
       "-1.0531613736418153"
      ]
     },
     "execution_count": 14,
     "metadata": {},
     "output_type": "execute_result"
    }
   ],
   "source": [
    "#### Find dfoo/dx via rrules\n",
    "#### First the forward pass, gathering up the pullbacks\n",
    "x = 3;\n",
    "a, a_pullback = rrule(sin, x);\n",
    "b, b_pullback = rrule(+, 0.2, a);\n",
    "c, c_pullback = rrule(asin, b)\n",
    "\n",
    "#### Then the backward pass calculating gradients\n",
    "c̄ = 1;                    # ∂c/∂c\n",
    "_, b̄ = c_pullback(c̄);     # ∂c/∂b = ∂c/∂b ⋅ ∂c/∂c\n",
    "_, _, ā = b_pullback(b̄);  # ∂c/∂a = ∂c/∂b ⋅ ∂b/∂a\n",
    "_, x̄ = a_pullback(ā);     # ∂c/∂x = ∂c/∂a ⋅ ∂a/∂x\n",
    "x̄"
   ]
  },
  {
   "cell_type": "code",
   "execution_count": 15,
   "id": "cfa2ede6",
   "metadata": {},
   "outputs": [
    {
     "data": {
      "text/plain": [
       "-1.0531613736418153"
      ]
     },
     "execution_count": 15,
     "metadata": {},
     "output_type": "execute_result"
    }
   ],
   "source": [
    "#### Find dfoo/dx via frules\n",
    "x = 3;\n",
    "ẋ = 1;              # ∂x/∂x\n",
    "nofields = ZeroTangent();  # ∂self/∂self\n",
    "\n",
    "a, ȧ = frule((nofields, ẋ), sin, x);                    # ∂a/∂x = ∂a/∂x ⋅ ∂x/∂x \n",
    "b, ḃ = frule((nofields, ZeroTangent(), ȧ), +, 0.2, a);  # ∂b/∂x = ∂b/∂a ⋅ ∂a/∂x\n",
    "c, ċ = frule((nofields, ḃ), asin, b);                   # ∂c/∂x = ∂c/∂b ⋅ ∂b/∂x\n",
    "ċ "
   ]
  },
  {
   "cell_type": "code",
   "execution_count": 16,
   "id": "af1c0da6",
   "metadata": {},
   "outputs": [
    {
     "name": "stderr",
     "output_type": "stream",
     "text": [
      "\u001b[32m\u001b[1m   Resolving\u001b[22m\u001b[39m package versions...\n",
      "\u001b[32m\u001b[1m  No Changes\u001b[22m\u001b[39m to `C:\\Users\\amans\\.julia\\environments\\v1.7\\Project.toml`\n",
      "\u001b[32m\u001b[1m  No Changes\u001b[22m\u001b[39m to `C:\\Users\\amans\\.julia\\environments\\v1.7\\Manifest.toml`\n"
     ]
    }
   ],
   "source": [
    "Pkg.add(\"FiniteDifferences\")"
   ]
  },
  {
   "cell_type": "code",
   "execution_count": 17,
   "id": "3173786f",
   "metadata": {},
   "outputs": [
    {
     "name": "stderr",
     "output_type": "stream",
     "text": [
      "\u001b[32m\u001b[1m   Resolving\u001b[22m\u001b[39m package versions...\n",
      "\u001b[32m\u001b[1m  No Changes\u001b[22m\u001b[39m to `C:\\Users\\amans\\.julia\\environments\\v1.7\\Project.toml`\n",
      "\u001b[32m\u001b[1m  No Changes\u001b[22m\u001b[39m to `C:\\Users\\amans\\.julia\\environments\\v1.7\\Manifest.toml`\n"
     ]
    }
   ],
   "source": [
    "Pkg.add(\"ForwardDiff\")"
   ]
  },
  {
   "cell_type": "code",
   "execution_count": 18,
   "id": "2dd21922",
   "metadata": {},
   "outputs": [
    {
     "data": {
      "text/plain": [
       "(-1.0531613736418153,)"
      ]
     },
     "execution_count": 18,
     "metadata": {},
     "output_type": "execute_result"
    }
   ],
   "source": [
    "#### Find dfoo/dx via FiniteDifferences.jl\n",
    "using FiniteDifferences\n",
    "central_fdm(5, 1)(foo, x)\n",
    "# output\n",
    "# -1.0531613736418257\n",
    "\n",
    "#### Find dfoo/dx via ForwardDiff.jl\n",
    "using ForwardDiff\n",
    "ForwardDiff.derivative(foo, x)\n",
    "# output\n",
    "# -1.0531613736418153\n",
    "\n",
    "#### Find dfoo/dx via Zygote.jl\n",
    "using Zygote\n",
    "Zygote.gradient(foo, x)"
   ]
  },
  {
   "cell_type": "code",
   "execution_count": 19,
   "id": "a15a7ff7",
   "metadata": {},
   "outputs": [
    {
     "name": "stderr",
     "output_type": "stream",
     "text": [
      "\u001b[32m\u001b[1m   Resolving\u001b[22m\u001b[39m package versions...\n",
      "\u001b[32m\u001b[1m  No Changes\u001b[22m\u001b[39m to `C:\\Users\\amans\\.julia\\environments\\v1.7\\Project.toml`\n",
      "\u001b[32m\u001b[1m  No Changes\u001b[22m\u001b[39m to `C:\\Users\\amans\\.julia\\environments\\v1.7\\Manifest.toml`\n"
     ]
    }
   ],
   "source": [
    "Pkg.add(\"ImageTransformations\")"
   ]
  },
  {
   "cell_type": "code",
   "execution_count": 28,
   "id": "ae8335c4",
   "metadata": {},
   "outputs": [],
   "source": [
    "import Pkg"
   ]
  },
  {
   "cell_type": "code",
   "execution_count": 29,
   "id": "81b0a4e5",
   "metadata": {},
   "outputs": [
    {
     "ename": "LoadError",
     "evalue": "The following package names could not be resolved:\n * DiffImages (not found in project, manifest or registry)\n",
     "output_type": "error",
     "traceback": [
      "The following package names could not be resolved:\n * DiffImages (not found in project, manifest or registry)\n",
      "",
      "Stacktrace:",
      "  [1] pkgerror(msg::String)",
      "    @ Pkg.Types C:\\Users\\amans\\AppData\\Local\\Programs\\Julia-1.7.1\\share\\julia\\stdlib\\v1.7\\Pkg\\src\\Types.jl:68",
      "  [2] ensure_resolved(manifest::Pkg.Types.Manifest, pkgs::Vector{Pkg.Types.PackageSpec}; registry::Bool)",
      "    @ Pkg.Types C:\\Users\\amans\\AppData\\Local\\Programs\\Julia-1.7.1\\share\\julia\\stdlib\\v1.7\\Pkg\\src\\Types.jl:915",
      "  [3] set_repo_source_from_registry!(ctx::Pkg.Types.Context, pkg::Pkg.Types.PackageSpec)",
      "    @ Pkg.Types C:\\Users\\amans\\AppData\\Local\\Programs\\Julia-1.7.1\\share\\julia\\stdlib\\v1.7\\Pkg\\src\\Types.jl:619",
      "  [4] handle_repo_develop!(ctx::Pkg.Types.Context, pkg::Pkg.Types.PackageSpec, shared::Bool)",
      "    @ Pkg.Types C:\\Users\\amans\\AppData\\Local\\Programs\\Julia-1.7.1\\share\\julia\\stdlib\\v1.7\\Pkg\\src\\Types.jl:550",
      "  [5] handle_repos_develop!(ctx::Pkg.Types.Context, pkgs::Vector{Pkg.Types.PackageSpec}, shared::Bool)",
      "    @ Pkg.Types C:\\Users\\amans\\AppData\\Local\\Programs\\Julia-1.7.1\\share\\julia\\stdlib\\v1.7\\Pkg\\src\\Types.jl:601",
      "  [6] develop(ctx::Pkg.Types.Context, pkgs::Vector{Pkg.Types.PackageSpec}; shared::Bool, preserve::Pkg.Types.PreserveLevel, platform::Base.BinaryPlatforms.Platform, kwargs::Base.Pairs{Symbol, IJulia.IJuliaStdio{Base.PipeEndpoint}, Tuple{Symbol}, NamedTuple{(:io,), Tuple{IJulia.IJuliaStdio{Base.PipeEndpoint}}}})",
      "    @ Pkg.API C:\\Users\\amans\\AppData\\Local\\Programs\\Julia-1.7.1\\share\\julia\\stdlib\\v1.7\\Pkg\\src\\API.jl:204",
      "  [7] develop(pkgs::Vector{Pkg.Types.PackageSpec}; io::IJulia.IJuliaStdio{Base.PipeEndpoint}, kwargs::Base.Pairs{Symbol, Union{}, Tuple{}, NamedTuple{(), Tuple{}}})",
      "    @ Pkg.API C:\\Users\\amans\\AppData\\Local\\Programs\\Julia-1.7.1\\share\\julia\\stdlib\\v1.7\\Pkg\\src\\API.jl:149",
      "  [8] develop(pkgs::Vector{Pkg.Types.PackageSpec})",
      "    @ Pkg.API C:\\Users\\amans\\AppData\\Local\\Programs\\Julia-1.7.1\\share\\julia\\stdlib\\v1.7\\Pkg\\src\\API.jl:144",
      "  [9] #develop#15",
      "    @ C:\\Users\\amans\\AppData\\Local\\Programs\\Julia-1.7.1\\share\\julia\\stdlib\\v1.7\\Pkg\\src\\API.jl:142 [inlined]",
      " [10] develop",
      "    @ C:\\Users\\amans\\AppData\\Local\\Programs\\Julia-1.7.1\\share\\julia\\stdlib\\v1.7\\Pkg\\src\\API.jl:142 [inlined]",
      " [11] #develop#14",
      "    @ C:\\Users\\amans\\AppData\\Local\\Programs\\Julia-1.7.1\\share\\julia\\stdlib\\v1.7\\Pkg\\src\\API.jl:141 [inlined]",
      " [12] develop(pkg::String)",
      "    @ Pkg.API C:\\Users\\amans\\AppData\\Local\\Programs\\Julia-1.7.1\\share\\julia\\stdlib\\v1.7\\Pkg\\src\\API.jl:141",
      " [13] top-level scope",
      "    @ In[29]:1",
      " [14] eval",
      "    @ .\\boot.jl:373 [inlined]",
      " [15] include_string(mapexpr::typeof(REPL.softscope), mod::Module, code::String, filename::String)",
      "    @ Base .\\loading.jl:1196"
     ]
    }
   ],
   "source": [
    "Pkg.develop(\"DiffImages\")"
   ]
  },
  {
   "cell_type": "code",
   "execution_count": 20,
   "id": "a0afe1c9",
   "metadata": {},
   "outputs": [
    {
     "ename": "LoadError",
     "evalue": "ArgumentError: Package DiffImages not found in current path:\n- Run `import Pkg; Pkg.add(\"DiffImages\")` to install the DiffImages package.\n",
     "output_type": "error",
     "traceback": [
      "ArgumentError: Package DiffImages not found in current path:\n- Run `import Pkg; Pkg.add(\"DiffImages\")` to install the DiffImages package.\n",
      "",
      "Stacktrace:",
      " [1] require(into::Module, mod::Symbol)",
      "   @ Base .\\loading.jl:967",
      " [2] eval",
      "   @ .\\boot.jl:373 [inlined]",
      " [3] include_string(mapexpr::typeof(REPL.softscope), mod::Module, code::String, filename::String)",
      "   @ Base .\\loading.jl:1196"
     ]
    }
   ],
   "source": [
    "using DiffImages, ImageTransformations, CoordinateTransformations, ImageCore, FileIO, StaticArrays"
   ]
  },
  {
   "cell_type": "code",
   "execution_count": null,
   "id": "a7a0201f",
   "metadata": {},
   "outputs": [],
   "source": []
  },
  {
   "cell_type": "code",
   "execution_count": null,
   "id": "7e91d351",
   "metadata": {},
   "outputs": [],
   "source": []
  },
  {
   "cell_type": "code",
   "execution_count": null,
   "id": "3b3b8cef",
   "metadata": {},
   "outputs": [],
   "source": []
  },
  {
   "cell_type": "code",
   "execution_count": null,
   "id": "783c110e",
   "metadata": {},
   "outputs": [],
   "source": []
  },
  {
   "cell_type": "code",
   "execution_count": null,
   "id": "6e84ddc4",
   "metadata": {},
   "outputs": [],
   "source": []
  }
 ],
 "metadata": {
  "kernelspec": {
   "display_name": "Julia 1.7.1",
   "language": "julia",
   "name": "julia-1.7"
  },
  "language_info": {
   "file_extension": ".jl",
   "mimetype": "application/julia",
   "name": "julia",
   "version": "1.7.1"
  }
 },
 "nbformat": 4,
 "nbformat_minor": 5
}
