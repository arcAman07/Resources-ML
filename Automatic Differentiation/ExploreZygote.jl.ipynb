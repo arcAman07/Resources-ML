{
 "cells": [
  {
   "cell_type": "code",
   "execution_count": 1,
   "id": "a63a94e3",
   "metadata": {},
   "outputs": [],
   "source": [
    "using Pkg"
   ]
  },
  {
   "cell_type": "code",
   "execution_count": 2,
   "id": "983f378e",
   "metadata": {},
   "outputs": [
    {
     "name": "stderr",
     "output_type": "stream",
     "text": [
      "\u001b[32m\u001b[1m    Updating\u001b[22m\u001b[39m registry at `C:\\Users\\amans\\.julia\\registries\\General.toml`\n",
      "\u001b[32m\u001b[1m   Resolving\u001b[22m\u001b[39m package versions...\n",
      "\u001b[32m\u001b[1m  No Changes\u001b[22m\u001b[39m to `C:\\Users\\amans\\.julia\\environments\\v1.7\\Project.toml`\n",
      "\u001b[32m\u001b[1m  No Changes\u001b[22m\u001b[39m to `C:\\Users\\amans\\.julia\\environments\\v1.7\\Manifest.toml`\n"
     ]
    }
   ],
   "source": [
    "Pkg.add(\"Zygote\")"
   ]
  },
  {
   "cell_type": "code",
   "execution_count": 3,
   "id": "adbb809c",
   "metadata": {},
   "outputs": [],
   "source": [
    "using Zygote"
   ]
  },
  {
   "cell_type": "code",
   "execution_count": 4,
   "id": "76e8b6c0",
   "metadata": {},
   "outputs": [
    {
     "data": {
      "text/plain": [
       "(32.0,)"
      ]
     },
     "execution_count": 4,
     "metadata": {},
     "output_type": "execute_result"
    }
   ],
   "source": [
    "gradient(x -> 3x^2 + 2x + 1, 5)"
   ]
  },
  {
   "cell_type": "code",
   "execution_count": 5,
   "id": "e2523706",
   "metadata": {},
   "outputs": [
    {
     "data": {
      "text/plain": [
       "(3.0, 2.0)"
      ]
     },
     "execution_count": 5,
     "metadata": {},
     "output_type": "execute_result"
    }
   ],
   "source": [
    "gradient((a, b) -> a*b, 2, 3)"
   ]
  },
  {
   "cell_type": "code",
   "execution_count": 6,
   "id": "2a33b957",
   "metadata": {},
   "outputs": [],
   "source": [
    "W = rand(2, 3); x = rand(3);"
   ]
  },
  {
   "cell_type": "code",
   "execution_count": 7,
   "id": "dbfb0b42",
   "metadata": {},
   "outputs": [
    {
     "data": {
      "text/plain": [
       "2×3 Matrix{Float64}:\n",
       " 0.413675  0.73428   0.371145\n",
       " 0.670755  0.915432  0.627425"
      ]
     },
     "execution_count": 7,
     "metadata": {},
     "output_type": "execute_result"
    }
   ],
   "source": [
    "W"
   ]
  },
  {
   "cell_type": "code",
   "execution_count": 8,
   "id": "3960554d",
   "metadata": {},
   "outputs": [
    {
     "data": {
      "text/plain": [
       "3-element Vector{Float64}:\n",
       " 0.9979476210746518\n",
       " 0.6276543772834695\n",
       " 0.7943464725824074"
      ]
     },
     "execution_count": 8,
     "metadata": {},
     "output_type": "execute_result"
    }
   ],
   "source": [
    "x"
   ]
  },
  {
   "cell_type": "code",
   "execution_count": 9,
   "id": "3469bf92",
   "metadata": {},
   "outputs": [
    {
     "data": {
      "text/plain": [
       "2×3 Matrix{Float64}:\n",
       " 0.413675  0.73428   0.371145\n",
       " 0.670755  0.915432  0.627425"
      ]
     },
     "execution_count": 9,
     "metadata": {},
     "output_type": "execute_result"
    }
   ],
   "source": [
    "W"
   ]
  },
  {
   "cell_type": "code",
   "execution_count": 10,
   "id": "def5b896",
   "metadata": {},
   "outputs": [
    {
     "data": {
      "text/plain": [
       "3-element Vector{Float64}:\n",
       " 0.9979476210746518\n",
       " 0.6276543772834695\n",
       " 0.7943464725824074"
      ]
     },
     "execution_count": 10,
     "metadata": {},
     "output_type": "execute_result"
    }
   ],
   "source": [
    "x"
   ]
  },
  {
   "cell_type": "code",
   "execution_count": 11,
   "id": "4a1f4b5b",
   "metadata": {},
   "outputs": [
    {
     "data": {
      "text/plain": [
       "2×3 Matrix{Float64}:\n",
       " 0.997948  0.627654  0.794346\n",
       " 0.997948  0.627654  0.794346"
      ]
     },
     "execution_count": 11,
     "metadata": {},
     "output_type": "execute_result"
    }
   ],
   "source": [
    "gradient(W -> sum(W*x), W)[1]"
   ]
  },
  {
   "cell_type": "code",
   "execution_count": 12,
   "id": "700965d5",
   "metadata": {},
   "outputs": [
    {
     "data": {
      "text/plain": [
       "(7//2,)"
      ]
     },
     "execution_count": 12,
     "metadata": {},
     "output_type": "execute_result"
    }
   ],
   "source": [
    "gradient(x -> 3x^2 + 2x + 1, 1//4)"
   ]
  },
  {
   "cell_type": "code",
   "execution_count": 13,
   "id": "e8602fe1",
   "metadata": {},
   "outputs": [],
   "source": [
    "# 6x + 2 = > 2 + 3//2 => 7//2"
   ]
  },
  {
   "cell_type": "code",
   "execution_count": 14,
   "id": "105ea8be",
   "metadata": {},
   "outputs": [
    {
     "data": {
      "text/plain": [
       "pow (generic function with 1 method)"
      ]
     },
     "execution_count": 14,
     "metadata": {},
     "output_type": "execute_result"
    }
   ],
   "source": [
    "function pow(x, n)\n",
    "         r = 1\n",
    "         for i = 1:n\n",
    "           r *= x\n",
    "         end\n",
    "         return r\n",
    "       end"
   ]
  },
  {
   "cell_type": "code",
   "execution_count": 15,
   "id": "fcdaeb06",
   "metadata": {},
   "outputs": [
    {
     "data": {
      "text/plain": [
       "75.0"
      ]
     },
     "execution_count": 15,
     "metadata": {},
     "output_type": "execute_result"
    }
   ],
   "source": [
    "gradient(x -> pow(x,3), 5)[1]"
   ]
  },
  {
   "cell_type": "code",
   "execution_count": 16,
   "id": "33407541",
   "metadata": {},
   "outputs": [
    {
     "data": {
      "text/plain": [
       "pow2 (generic function with 1 method)"
      ]
     },
     "execution_count": 16,
     "metadata": {},
     "output_type": "execute_result"
    }
   ],
   "source": [
    "pow2(x,n) = n<=0 ? 0 : pow2(x,n-1)"
   ]
  },
  {
   "cell_type": "code",
   "execution_count": 17,
   "id": "cb1bbb95",
   "metadata": {},
   "outputs": [],
   "source": [
    "gradient(x -> pow2(x,3), 5)[1]"
   ]
  },
  {
   "cell_type": "code",
   "execution_count": 18,
   "id": "83e4b343",
   "metadata": {},
   "outputs": [
    {
     "data": {
      "text/plain": [
       "Dict{Any, Any}()"
      ]
     },
     "execution_count": 18,
     "metadata": {},
     "output_type": "execute_result"
    }
   ],
   "source": [
    "d = Dict()"
   ]
  },
  {
   "cell_type": "code",
   "execution_count": 19,
   "id": "2c6ef789",
   "metadata": {},
   "outputs": [
    {
     "data": {
      "text/plain": [
       "(10.0,)"
      ]
     },
     "execution_count": 19,
     "metadata": {},
     "output_type": "execute_result"
    }
   ],
   "source": [
    "gradient(5) do x\n",
    "         d[:x] = x\n",
    "         d[:x] * d[:x]\n",
    "       end"
   ]
  },
  {
   "cell_type": "code",
   "execution_count": 20,
   "id": "43744093",
   "metadata": {},
   "outputs": [
    {
     "data": {
      "text/plain": [
       "Dict{Any, Any} with 1 entry:\n",
       "  :x => 5"
      ]
     },
     "execution_count": 20,
     "metadata": {},
     "output_type": "execute_result"
    }
   ],
   "source": [
    "d"
   ]
  },
  {
   "cell_type": "code",
   "execution_count": 21,
   "id": "7b2d1dec",
   "metadata": {},
   "outputs": [],
   "source": [
    "import Base: +,-"
   ]
  },
  {
   "cell_type": "code",
   "execution_count": 22,
   "id": "beb97b19",
   "metadata": {},
   "outputs": [],
   "source": [
    "struct Point\n",
    "    x::Float64\n",
    "    y::Float64\n",
    "end"
   ]
  },
  {
   "cell_type": "code",
   "execution_count": 23,
   "id": "c5437db5",
   "metadata": {},
   "outputs": [
    {
     "data": {
      "text/plain": [
       "- (generic function with 293 methods)"
      ]
     },
     "execution_count": 23,
     "metadata": {},
     "output_type": "execute_result"
    }
   ],
   "source": [
    "a::Point + b::Point = Point(a.x + b.x, a.y + b.y)\n",
    "a::Point - b::Point = Point(a.x - b.x, a.y - b.y)"
   ]
  },
  {
   "cell_type": "code",
   "execution_count": 24,
   "id": "7601e46d",
   "metadata": {},
   "outputs": [
    {
     "data": {
      "text/plain": [
       "dist (generic function with 1 method)"
      ]
     },
     "execution_count": 24,
     "metadata": {},
     "output_type": "execute_result"
    }
   ],
   "source": [
    "dist(p::Point) = sqrt(p.x^2 + p.y^2)"
   ]
  },
  {
   "cell_type": "code",
   "execution_count": 25,
   "id": "84236168",
   "metadata": {},
   "outputs": [
    {
     "data": {
      "text/plain": [
       "Point(3.0, 4.0)"
      ]
     },
     "execution_count": 25,
     "metadata": {},
     "output_type": "execute_result"
    }
   ],
   "source": [
    "a = Point(1,2)\n",
    "b = Point(3,4)"
   ]
  },
  {
   "cell_type": "code",
   "execution_count": 26,
   "id": "1c599629",
   "metadata": {},
   "outputs": [
    {
     "data": {
      "text/plain": [
       "7.211102550927978"
      ]
     },
     "execution_count": 26,
     "metadata": {},
     "output_type": "execute_result"
    }
   ],
   "source": [
    "dist(a+b)"
   ]
  },
  {
   "cell_type": "code",
   "execution_count": 27,
   "id": "f11c3550",
   "metadata": {},
   "outputs": [
    {
     "data": {
      "text/plain": [
       "(x = 0.5547001962252291, y = 0.8320502943378437)"
      ]
     },
     "execution_count": 27,
     "metadata": {},
     "output_type": "execute_result"
    }
   ],
   "source": [
    "gradient(a -> dist(a+b), a)[1]"
   ]
  },
  {
   "cell_type": "code",
   "execution_count": 28,
   "id": "e9f50f7e",
   "metadata": {},
   "outputs": [
    {
     "data": {
      "text/plain": [
       "(x = 0.5547001962252291, y = 0.8320502943378437)"
      ]
     },
     "execution_count": 28,
     "metadata": {},
     "output_type": "execute_result"
    }
   ],
   "source": [
    "gradient(b -> dist(a+b), b)[1]"
   ]
  },
  {
   "cell_type": "code",
   "execution_count": 29,
   "id": "d716ca8d",
   "metadata": {},
   "outputs": [
    {
     "name": "stderr",
     "output_type": "stream",
     "text": [
      "\u001b[32m\u001b[1m    Updating\u001b[22m\u001b[39m registry at `C:\\Users\\amans\\.julia\\registries\\General.toml`\n",
      "\u001b[32m\u001b[1m   Installed\u001b[22m\u001b[39m ImageMagick_jll ───── v6.9.12+2\n",
      "\u001b[32m\u001b[1m   Installed\u001b[22m\u001b[39m FreeTypeAbstraction ─ v0.9.9\n",
      "\u001b[32m\u001b[1m   Installed\u001b[22m\u001b[39m StatsFuns ─────────── v0.9.17\n",
      "\u001b[32m\u001b[1m   Installed\u001b[22m\u001b[39m ImageMagick ───────── v1.2.1\n",
      "\u001b[32m\u001b[1m   Installed\u001b[22m\u001b[39m Ghostscript_jll ───── v9.55.0+0\n",
      "\u001b[32m\u001b[1m   Installed\u001b[22m\u001b[39m GPUArrays ─────────── v8.3.2\n",
      "\u001b[32m\u001b[1m   Installed\u001b[22m\u001b[39m Quaternions ───────── v0.5.4\n",
      "\u001b[32m\u001b[1m   Installed\u001b[22m\u001b[39m JuliaInterpreter ──── v0.9.12\n",
      "\u001b[32m\u001b[1m   Installed\u001b[22m\u001b[39m UnicodePlots ──────── v2.10.3\n",
      "\u001b[32m\u001b[1m   Installed\u001b[22m\u001b[39m HDF5 ──────────────── v0.16.6\n",
      "\u001b[32m\u001b[1m  No Changes\u001b[22m\u001b[39m to `C:\\Users\\amans\\.julia\\environments\\v1.7\\Project.toml`\n",
      "\u001b[32m\u001b[1m    Updating\u001b[22m\u001b[39m `C:\\Users\\amans\\.julia\\environments\\v1.7\\Manifest.toml`\n",
      " \u001b[90m [663a7486] \u001b[39m\u001b[93m↑ FreeTypeAbstraction v0.9.7 ⇒ v0.9.9\u001b[39m\n",
      " \u001b[90m [0c68f7d7] \u001b[39m\u001b[93m↑ GPUArrays v8.3.1 ⇒ v8.3.2\u001b[39m\n",
      " \u001b[90m [f67ccb44] \u001b[39m\u001b[93m↑ HDF5 v0.16.5 ⇒ v0.16.6\u001b[39m\n",
      " \u001b[90m [6218d12a] \u001b[39m\u001b[95m↓ ImageMagick v1.2.2 ⇒ v1.2.1\u001b[39m\n",
      " \u001b[90m [aa1ae85d] \u001b[39m\u001b[93m↑ JuliaInterpreter v0.9.11 ⇒ v0.9.12\u001b[39m\n",
      " \u001b[90m [94ee1d12] \u001b[39m\u001b[93m↑ Quaternions v0.5.3 ⇒ v0.5.4\u001b[39m\n",
      " \u001b[90m [4c63d2b9] \u001b[39m\u001b[93m↑ StatsFuns v0.9.16 ⇒ v0.9.17\u001b[39m\n",
      " \u001b[90m [b8865327] \u001b[39m\u001b[93m↑ UnicodePlots v2.10.1 ⇒ v2.10.3\u001b[39m\n",
      " \u001b[90m [61579ee1] \u001b[39m\u001b[92m+ Ghostscript_jll v9.55.0+0\u001b[39m\n",
      " \u001b[90m [c73af94c] \u001b[39m\u001b[93m↑ ImageMagick_jll v6.9.10-12+3 ⇒ v6.9.12+2\u001b[39m\n",
      "\u001b[32m\u001b[1m    Building\u001b[22m\u001b[39m HDF5 → `C:\\Users\\amans\\.julia\\scratchspaces\\44cfe95a-1eb2-52ea-b672-e2afdf69b78f\\cdd249512de03cbf8370365a0a08b9a24955dca9\\build.log`\n",
      "\u001b[32m\u001b[1mPrecompiling\u001b[22m\u001b[39m project...\n",
      "\u001b[32m  ✓ \u001b[39m\u001b[90mQuaternions\u001b[39m\n",
      "\u001b[32m  ✓ \u001b[39m\u001b[90mGhostscript_jll\u001b[39m\n",
      "\u001b[32m  ✓ \u001b[39m\u001b[90mImageMagick_jll\u001b[39m\n",
      "\u001b[32m  ✓ \u001b[39m\u001b[90mStatsFuns\u001b[39m\n",
      "\u001b[32m  ✓ \u001b[39m\u001b[90mGPUArrays\u001b[39m\n",
      "\u001b[32m  ✓ \u001b[39m\u001b[90mHDF5\u001b[39m\n",
      "\u001b[32m  ✓ \u001b[39m\u001b[90mFreeTypeAbstraction\u001b[39m\n",
      "\u001b[32m  ✓ \u001b[39m\u001b[90mRotations\u001b[39m\n",
      "\u001b[32m  ✓ \u001b[39m\u001b[90mMAT\u001b[39m\n",
      "\u001b[32m  ✓ \u001b[39m\u001b[90mJuliaInterpreter\u001b[39m\n",
      "\u001b[32m  ✓ \u001b[39m\u001b[90mImageMagick\u001b[39m\n",
      "\u001b[32m  ✓ \u001b[39mImageTransformations\n",
      "\u001b[32m  ✓ \u001b[39mMLDatasets\n",
      "\u001b[32m  ✓ \u001b[39m\u001b[90mDistributions\u001b[39m\n",
      "\u001b[32m  ✓ \u001b[39m\u001b[90mImageInTerminal\u001b[39m\n",
      "\u001b[32m  ✓ \u001b[39m\u001b[90mImageContrastAdjustment\u001b[39m\n",
      "\u001b[32m  ✓ \u001b[39m\u001b[90mUnicodePlots\u001b[39m\n",
      "\u001b[32m  ✓ \u001b[39mImages\n",
      "\u001b[32m  ✓ \u001b[39mAtom\n",
      "\u001b[32m  ✓ \u001b[39mDataAugmentation\n",
      "\u001b[32m  ✓ \u001b[39m\u001b[90mCUDA\u001b[39m\n",
      "\u001b[32m  ✓ \u001b[39m\u001b[90mNNlibCUDA\u001b[39m\n",
      "\u001b[32m  ✓ \u001b[39mFlux\n",
      "\u001b[32m  ✓ \u001b[39mFluxTraining\n",
      "\u001b[32m  ✓ \u001b[39mFastAI\n",
      "  25 dependencies successfully precompiled in 89 seconds (237 already precompiled)\n"
     ]
    }
   ],
   "source": [
    "Pkg.update(\"Zygote\")"
   ]
  },
  {
   "cell_type": "code",
   "execution_count": 30,
   "id": "3ec77732",
   "metadata": {},
   "outputs": [
    {
     "name": "stderr",
     "output_type": "stream",
     "text": [
      "\u001b[32m\u001b[1m   Resolving\u001b[22m\u001b[39m package versions...\n",
      "\u001b[32m\u001b[1m  No Changes\u001b[22m\u001b[39m to `C:\\Users\\amans\\.julia\\environments\\v1.7\\Project.toml`\n",
      "\u001b[32m\u001b[1m  No Changes\u001b[22m\u001b[39m to `C:\\Users\\amans\\.julia\\environments\\v1.7\\Manifest.toml`\n"
     ]
    }
   ],
   "source": [
    "Pkg.add(\"Colors\")"
   ]
  },
  {
   "cell_type": "code",
   "execution_count": 31,
   "id": "554d894c",
   "metadata": {},
   "outputs": [],
   "source": [
    "using Colors"
   ]
  },
  {
   "cell_type": "code",
   "execution_count": 32,
   "id": "fcff8a1d",
   "metadata": {},
   "outputs": [
    {
     "data": {
      "text/plain": [
       "86.60823557376344"
      ]
     },
     "execution_count": 32,
     "metadata": {},
     "output_type": "execute_result"
    }
   ],
   "source": [
    "colordiff(RGB(1, 0, 0), RGB(0, 1, 0))"
   ]
  },
  {
   "cell_type": "code",
   "execution_count": 33,
   "id": "714b5b70",
   "metadata": {},
   "outputs": [
    {
     "data": {
      "text/plain": [
       "(nothing, nothing)"
      ]
     },
     "execution_count": 33,
     "metadata": {},
     "output_type": "execute_result"
    }
   ],
   "source": [
    "gradient(colordiff, RGB(1, 0, 0), RGB(0, 1, 0))"
   ]
  },
  {
   "cell_type": "code",
   "execution_count": 34,
   "id": "7d89248c",
   "metadata": {},
   "outputs": [
    {
     "data": {
      "text/plain": [
       "pow_global (generic function with 1 method)"
      ]
     },
     "execution_count": 34,
     "metadata": {},
     "output_type": "execute_result"
    }
   ],
   "source": [
    "function pow_global(x, n)\n",
    "  global r=1\n",
    "  while n > 0\n",
    "    r *= x\n",
    "    n -= 1\n",
    "  end\n",
    "  return r\n",
    "end"
   ]
  },
  {
   "cell_type": "code",
   "execution_count": 35,
   "id": "72983d8d",
   "metadata": {},
   "outputs": [
    {
     "data": {
      "text/plain": [
       "(12.0, nothing)"
      ]
     },
     "execution_count": 35,
     "metadata": {},
     "output_type": "execute_result"
    }
   ],
   "source": [
    "gradient(pow_global, 2, 3)"
   ]
  },
  {
   "cell_type": "code",
   "execution_count": 36,
   "id": "47614788",
   "metadata": {},
   "outputs": [
    {
     "data": {
      "text/plain": [
       "pow_mut (generic function with 1 method)"
      ]
     },
     "execution_count": 36,
     "metadata": {},
     "output_type": "execute_result"
    }
   ],
   "source": [
    "function pow_mut(x, n)\n",
    "  r = Ref(one(x))\n",
    "  while n > 0\n",
    "    n -= 1\n",
    "    r[] = r[] * x\n",
    "  end\n",
    "  return r[]\n",
    "end"
   ]
  },
  {
   "cell_type": "code",
   "execution_count": 37,
   "id": "fface6d8",
   "metadata": {},
   "outputs": [
    {
     "data": {
      "text/plain": [
       "(12.0, nothing)"
      ]
     },
     "execution_count": 37,
     "metadata": {},
     "output_type": "execute_result"
    }
   ],
   "source": [
    "gradient(pow_mut, 2, 3)"
   ]
  },
  {
   "cell_type": "code",
   "execution_count": 38,
   "id": "8e4c7d19",
   "metadata": {},
   "outputs": [
    {
     "data": {
      "text/plain": [
       "mul (generic function with 1 method)"
      ]
     },
     "execution_count": 38,
     "metadata": {},
     "output_type": "execute_result"
    }
   ],
   "source": [
    "mul(a,b) = a*b"
   ]
  },
  {
   "cell_type": "code",
   "execution_count": 41,
   "id": "2c4fdf01",
   "metadata": {},
   "outputs": [],
   "source": [
    "using Zygote: @adjoint"
   ]
  },
  {
   "cell_type": "code",
   "execution_count": 42,
   "id": "b4b38dc7",
   "metadata": {},
   "outputs": [],
   "source": [
    "@adjoint mul(a,b) = mul(a,b) , c̄ -> (c̄*b,c̄*a)"
   ]
  },
  {
   "cell_type": "code",
   "execution_count": 43,
   "id": "838e5a95",
   "metadata": {},
   "outputs": [
    {
     "data": {
      "text/plain": [
       "(3.0, 2.0)"
      ]
     },
     "execution_count": 43,
     "metadata": {},
     "output_type": "execute_result"
    }
   ],
   "source": [
    "gradient(mul,2,3)"
   ]
  },
  {
   "cell_type": "code",
   "execution_count": 46,
   "id": "6aa3932d",
   "metadata": {},
   "outputs": [
    {
     "data": {
      "text/plain": [
       "height (generic function with 1 method)"
      ]
     },
     "execution_count": 46,
     "metadata": {},
     "output_type": "execute_result"
    }
   ],
   "source": [
    "struct Point\n",
    "    x::Float64\n",
    "    y::Float64\n",
    "end\n",
    "\n",
    "width(p::Point) = p.x\n",
    "height(p::Point) = p.y"
   ]
  },
  {
   "cell_type": "code",
   "execution_count": 49,
   "id": "e5d86b3d",
   "metadata": {},
   "outputs": [
    {
     "data": {
      "text/plain": [
       "+ (generic function with 288 methods)"
      ]
     },
     "execution_count": 49,
     "metadata": {},
     "output_type": "execute_result"
    }
   ],
   "source": [
    "a::Point + b::Point = Point(width(a)+width(b),height(a)+height(b))"
   ]
  },
  {
   "cell_type": "code",
   "execution_count": 50,
   "id": "4337b5be",
   "metadata": {},
   "outputs": [
    {
     "data": {
      "text/plain": [
       "- (generic function with 297 methods)"
      ]
     },
     "execution_count": 50,
     "metadata": {},
     "output_type": "execute_result"
    }
   ],
   "source": [
    "a::Point - b::Point = Point(width(a)-width(b),height(a)-height(b))"
   ]
  },
  {
   "cell_type": "code",
   "execution_count": 51,
   "id": "c5ac26b1",
   "metadata": {},
   "outputs": [
    {
     "data": {
      "text/plain": [
       "dist (generic function with 1 method)"
      ]
     },
     "execution_count": 51,
     "metadata": {},
     "output_type": "execute_result"
    }
   ],
   "source": [
    "dist(p::Point) = sqrt(width(p)^2 + height(p)^2)"
   ]
  },
  {
   "cell_type": "code",
   "execution_count": 53,
   "id": "302772d4",
   "metadata": {},
   "outputs": [
    {
     "data": {
      "text/plain": [
       "(x = 0.4472135954999579, y = 0.8944271909999159)"
      ]
     },
     "execution_count": 53,
     "metadata": {},
     "output_type": "execute_result"
    }
   ],
   "source": [
    "gradient(a -> dist(a),Point(1,2))[1]"
   ]
  },
  {
   "cell_type": "code",
   "execution_count": 54,
   "id": "f80e2915",
   "metadata": {},
   "outputs": [
    {
     "data": {
      "text/plain": [
       "((x = 1.0, y = nothing),)"
      ]
     },
     "execution_count": 54,
     "metadata": {},
     "output_type": "execute_result"
    }
   ],
   "source": [
    "gradient(a -> a.x, Point(1, 2))"
   ]
  },
  {
   "cell_type": "code",
   "execution_count": 58,
   "id": "e539dae0",
   "metadata": {},
   "outputs": [],
   "source": [
    "@adjoint width(p::Point) = p.x, x̄ -> (Point(x̄,0),)"
   ]
  },
  {
   "cell_type": "code",
   "execution_count": 59,
   "id": "c4a4356f",
   "metadata": {},
   "outputs": [],
   "source": [
    "@adjoint height(p::Point) = p.y, ȳ -> (Point(0,ȳ),)"
   ]
  },
  {
   "cell_type": "code",
   "execution_count": 60,
   "id": "5af754ae",
   "metadata": {},
   "outputs": [
    {
     "data": {
      "text/plain": [
       "(Point(0.0, 1.0),)"
      ]
     },
     "execution_count": 60,
     "metadata": {},
     "output_type": "execute_result"
    }
   ],
   "source": [
    "gradient(a -> height(a),Point(1,2))"
   ]
  },
  {
   "cell_type": "code",
   "execution_count": 62,
   "id": "ab990dbd",
   "metadata": {},
   "outputs": [
    {
     "data": {
      "text/plain": [
       "(Point(1.0, 0.0),)"
      ]
     },
     "execution_count": 62,
     "metadata": {},
     "output_type": "execute_result"
    }
   ],
   "source": [
    "gradient(b -> width(b),Point(1,2))"
   ]
  },
  {
   "cell_type": "code",
   "execution_count": 63,
   "id": "7e749a23",
   "metadata": {},
   "outputs": [
    {
     "data": {
      "text/plain": [
       "Point(0.4472135954999579, 0.8944271909999159)"
      ]
     },
     "execution_count": 63,
     "metadata": {},
     "output_type": "execute_result"
    }
   ],
   "source": [
    "gradient(a -> dist(a), Point(1, 2))[1]"
   ]
  },
  {
   "cell_type": "code",
   "execution_count": 64,
   "id": "244617ea",
   "metadata": {},
   "outputs": [],
   "source": [
    "# If you do this you should also overload the Point constructor, \n",
    "# so that it can handle a Point gradient (otherwise this function will error)."
   ]
  },
  {
   "cell_type": "code",
   "execution_count": 68,
   "id": "a75a410d",
   "metadata": {},
   "outputs": [],
   "source": [
    "@adjoint Point(a,b) = Point(a,b), p̄ -> (p̄.x,p̄.y)"
   ]
  },
  {
   "cell_type": "code",
   "execution_count": 69,
   "id": "54f6addd",
   "metadata": {},
   "outputs": [
    {
     "data": {
      "text/plain": [
       "Point(0.4472135954999579, 0.8944271909999159)"
      ]
     },
     "execution_count": 69,
     "metadata": {},
     "output_type": "execute_result"
    }
   ],
   "source": [
    "gradient(x -> dist(x), Point(1,2))[1]"
   ]
  },
  {
   "cell_type": "code",
   "execution_count": 70,
   "id": "774a5d6f",
   "metadata": {},
   "outputs": [],
   "source": [
    "# We usually use custom adjoints to add gradients that Zygote can't derive itself (for example, because they ccall to BLAS). \n",
    "# But there are some more advanced and fun things we can to with @adjoint."
   ]
  },
  {
   "cell_type": "code",
   "execution_count": 71,
   "id": "155d2ae3",
   "metadata": {},
   "outputs": [
    {
     "data": {
      "text/plain": [
       "hook (generic function with 1 method)"
      ]
     },
     "execution_count": 71,
     "metadata": {},
     "output_type": "execute_result"
    }
   ],
   "source": [
    "hook(f, x) = x"
   ]
  },
  {
   "cell_type": "code",
   "execution_count": 72,
   "id": "534030d6",
   "metadata": {},
   "outputs": [],
   "source": [
    "@adjoint hook(f, x) = x, x̄ -> (nothing, f(x̄))"
   ]
  },
  {
   "cell_type": "code",
   "execution_count": 73,
   "id": "781f0660",
   "metadata": {},
   "outputs": [
    {
     "data": {
      "text/plain": [
       "(-3.0, 2.0)"
      ]
     },
     "execution_count": 73,
     "metadata": {},
     "output_type": "execute_result"
    }
   ],
   "source": [
    "gradient((a, b) -> hook(-, a)*b, 2, 3)"
   ]
  },
  {
   "cell_type": "code",
   "execution_count": 74,
   "id": "abd1ab0d",
   "metadata": {},
   "outputs": [
    {
     "data": {
      "text/plain": [
       "(3.0, 2.0)"
      ]
     },
     "execution_count": 74,
     "metadata": {},
     "output_type": "execute_result"
    }
   ],
   "source": [
    "gradient((a, b) -> hook(ā -> @show(ā), a)*b, 2, 3)"
   ]
  },
  {
   "cell_type": "code",
   "execution_count": 75,
   "id": "592f090c",
   "metadata": {},
   "outputs": [
    {
     "name": "stdout",
     "output_type": "stream",
     "text": [
      "ā = 3.0\n"
     ]
    },
    {
     "data": {
      "text/plain": [
       "checkpoint (generic function with 1 method)"
      ]
     },
     "execution_count": 75,
     "metadata": {},
     "output_type": "execute_result"
    }
   ],
   "source": [
    "checkpoint(f, x) = f(x)"
   ]
  },
  {
   "cell_type": "code",
   "execution_count": 77,
   "id": "8a756d97",
   "metadata": {},
   "outputs": [],
   "source": [
    "@adjoint checkpoint(f, x) = f(x), ȳ -> Zygote._pullback(f, x)[2](ȳ)"
   ]
  },
  {
   "cell_type": "code",
   "execution_count": 78,
   "id": "005bf8a3",
   "metadata": {},
   "outputs": [
    {
     "data": {
      "text/plain": [
       "(0.5403023058681398,)"
      ]
     },
     "execution_count": 78,
     "metadata": {},
     "output_type": "execute_result"
    }
   ],
   "source": [
    "gradient(x -> checkpoint(sin, x), 1)"
   ]
  },
  {
   "cell_type": "code",
   "execution_count": 79,
   "id": "7d930565",
   "metadata": {},
   "outputs": [
    {
     "data": {
      "text/plain": [
       "foo (generic function with 1 method)"
      ]
     },
     "execution_count": 79,
     "metadata": {},
     "output_type": "execute_result"
    }
   ],
   "source": [
    "foo(x) = (println(x); sin(x))"
   ]
  },
  {
   "cell_type": "code",
   "execution_count": 80,
   "id": "f35df29c",
   "metadata": {},
   "outputs": [
    {
     "name": "stdout",
     "output_type": "stream",
     "text": [
      "1\n",
      "1\n"
     ]
    },
    {
     "data": {
      "text/plain": [
       "(0.5403023058681398,)"
      ]
     },
     "execution_count": 80,
     "metadata": {},
     "output_type": "execute_result"
    }
   ],
   "source": [
    "gradient(x -> checkpoint(foo, x), 1)"
   ]
  },
  {
   "cell_type": "code",
   "execution_count": 81,
   "id": "0ab3e261",
   "metadata": {},
   "outputs": [
    {
     "data": {
      "text/plain": [
       "isderiving (generic function with 1 method)"
      ]
     },
     "execution_count": 81,
     "metadata": {},
     "output_type": "execute_result"
    }
   ],
   "source": [
    "isderiving() = false"
   ]
  },
  {
   "cell_type": "code",
   "execution_count": 82,
   "id": "d430c335",
   "metadata": {},
   "outputs": [],
   "source": [
    "@adjoint isderiving() = true, _ -> nothing"
   ]
  },
  {
   "cell_type": "code",
   "execution_count": 83,
   "id": "e92e8d61",
   "metadata": {},
   "outputs": [],
   "source": [
    "nestlevel() = 0\n",
    "\n",
    "@adjoint nestlevel() = nestlevel()+1, _ -> nothing"
   ]
  },
  {
   "cell_type": "code",
   "execution_count": 84,
   "id": "622aead9",
   "metadata": {},
   "outputs": [
    {
     "data": {
      "text/plain": [
       "f (generic function with 1 method)"
      ]
     },
     "execution_count": 84,
     "metadata": {},
     "output_type": "execute_result"
    }
   ],
   "source": [
    "function f(x)\n",
    "         println(nestlevel(), \" levels of nesting\")\n",
    "         return x\n",
    "       end"
   ]
  },
  {
   "cell_type": "code",
   "execution_count": 85,
   "id": "24f6274a",
   "metadata": {},
   "outputs": [
    {
     "data": {
      "text/plain": [
       "grad (generic function with 1 method)"
      ]
     },
     "execution_count": 85,
     "metadata": {},
     "output_type": "execute_result"
    }
   ],
   "source": [
    "grad(f, x) = gradient(f, x)[1]"
   ]
  },
  {
   "cell_type": "code",
   "execution_count": 86,
   "id": "d5a7e07f",
   "metadata": {},
   "outputs": [
    {
     "name": "stdout",
     "output_type": "stream",
     "text": [
      "0 levels of nesting\n"
     ]
    }
   ],
   "source": [
    "f(1);"
   ]
  },
  {
   "cell_type": "code",
   "execution_count": 87,
   "id": "4d5e4487",
   "metadata": {},
   "outputs": [
    {
     "name": "stdout",
     "output_type": "stream",
     "text": [
      "1 levels of nesting\n"
     ]
    }
   ],
   "source": [
    "grad(f, 1);"
   ]
  },
  {
   "cell_type": "code",
   "execution_count": 88,
   "id": "36edb797",
   "metadata": {},
   "outputs": [
    {
     "name": "stdout",
     "output_type": "stream",
     "text": [
      "2 levels of nesting\n"
     ]
    }
   ],
   "source": [
    "grad(x -> x*grad(f, x), 1);"
   ]
  },
  {
   "cell_type": "code",
   "execution_count": null,
   "id": "f4927e7e",
   "metadata": {},
   "outputs": [],
   "source": []
  }
 ],
 "metadata": {
  "kernelspec": {
   "display_name": "Julia 1.7.1",
   "language": "julia",
   "name": "julia-1.7"
  },
  "language_info": {
   "file_extension": ".jl",
   "mimetype": "application/julia",
   "name": "julia",
   "version": "1.7.1"
  }
 },
 "nbformat": 4,
 "nbformat_minor": 5
}
