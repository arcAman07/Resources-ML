{
  "nbformat": 4,
  "nbformat_minor": 0,
  "metadata": {
    "colab": {
      "name": "InbuiltLinearRegression.ipynb",
      "provenance": []
    },
    "kernelspec": {
      "name": "python3",
      "display_name": "Python 3"
    },
    "language_info": {
      "name": "python"
    }
  },
  "cells": [
    {
      "cell_type": "code",
      "execution_count": 1,
      "metadata": {
        "id": "Qqhn6XME6Jgz"
      },
      "outputs": [],
      "source": [
        "import numpy as np\n",
        "import torch\n",
        "import torch.nn as nn"
      ]
    },
    {
      "cell_type": "code",
      "source": [
        "# Training data\n",
        "# [Temp, Rainfall, Humidity]\n",
        "inputs = np.array([[73,67,43],[91,88,64],[87,134,58],[102,43,37],[69,96,70],\n",
        "                   [73,67,43],[91,88,64],[87,134,58],[102,43,37],[69,96,70],\n",
        "                   [73,67,43],[91,88,64],[87,134,58],[102,43,37],[69,96,70]],dtype='float32')\n",
        "# [Apples, Oranges]\n",
        "targets = np.array([[56,70],[81,101],[119,133],[22,37],[103,119],\n",
        "                    [56,70],[81,101],[119,133],[22,37],[103,119],\n",
        "                    [56,70],[81,101],[119,133],[22,37],[103,119]], dtype='float32')"
      ],
      "metadata": {
        "id": "raD-QlN16M5p"
      },
      "execution_count": 2,
      "outputs": []
    },
    {
      "cell_type": "code",
      "source": [
        "inputs = torch.from_numpy(inputs)\n",
        "targets = torch.from_numpy(targets)"
      ],
      "metadata": {
        "id": "m2w-oDRdFvOY"
      },
      "execution_count": 3,
      "outputs": []
    },
    {
      "cell_type": "code",
      "source": [
        "# We have 15 training examples here\n",
        "from torch.utils.data import TensorDataset\n",
        "# We will create a TensorDataset which will allow access to rows from inputs and targets as tuples, \n",
        "# and provides standard APIs for working with different types of datasets in Pytorch."
      ],
      "metadata": {
        "id": "W1xPTSMLFvT_"
      },
      "execution_count": 4,
      "outputs": []
    },
    {
      "cell_type": "code",
      "source": [
        "train_ds = TensorDataset(inputs,targets)\n",
        "train_ds[0:3]"
      ],
      "metadata": {
        "colab": {
          "base_uri": "https://localhost:8080/"
        },
        "id": "JPeUxfzdFvW6",
        "outputId": "a902ef43-7a4f-4678-fbfb-d76000f75fdf"
      },
      "execution_count": 5,
      "outputs": [
        {
          "output_type": "execute_result",
          "data": {
            "text/plain": [
              "(tensor([[ 73.,  67.,  43.],\n",
              "         [ 91.,  88.,  64.],\n",
              "         [ 87., 134.,  58.]]), tensor([[ 56.,  70.],\n",
              "         [ 81., 101.],\n",
              "         [119., 133.]]))"
            ]
          },
          "metadata": {},
          "execution_count": 5
        }
      ]
    },
    {
      "cell_type": "code",
      "source": [
        "# We will create a Dataloader, which can split data into batches of a predefined size while training. It also provides other features like shuffling and sampling of data."
      ],
      "metadata": {
        "id": "FJtuHb__GYUV"
      },
      "execution_count": 6,
      "outputs": []
    },
    {
      "cell_type": "code",
      "source": [
        "from torch.utils.data import DataLoader"
      ],
      "metadata": {
        "id": "jc9bshHAG_0D"
      },
      "execution_count": 7,
      "outputs": []
    },
    {
      "cell_type": "code",
      "source": [
        "batch_size = 5\n",
        "train_dl = DataLoader(train_ds,batch_size,shuffle = True)"
      ],
      "metadata": {
        "id": "OiVJiKbxG_2o"
      },
      "execution_count": 8,
      "outputs": []
    },
    {
      "cell_type": "code",
      "source": [
        "i = 0\n",
        "for xb,yb in train_dl:\n",
        "  i += 1\n",
        "  print(\"Batch\",i)\n",
        "  print(xb)\n",
        "  print(yb)"
      ],
      "metadata": {
        "colab": {
          "base_uri": "https://localhost:8080/"
        },
        "id": "AkjkObaFG_5G",
        "outputId": "1debc726-99cf-4385-d63d-96a923a9fa4e"
      },
      "execution_count": 9,
      "outputs": [
        {
          "output_type": "stream",
          "name": "stdout",
          "text": [
            "Batch 1\n",
            "tensor([[69., 96., 70.],\n",
            "        [91., 88., 64.],\n",
            "        [69., 96., 70.],\n",
            "        [91., 88., 64.],\n",
            "        [69., 96., 70.]])\n",
            "tensor([[103., 119.],\n",
            "        [ 81., 101.],\n",
            "        [103., 119.],\n",
            "        [ 81., 101.],\n",
            "        [103., 119.]])\n",
            "Batch 2\n",
            "tensor([[102.,  43.,  37.],\n",
            "        [ 87., 134.,  58.],\n",
            "        [ 87., 134.,  58.],\n",
            "        [ 87., 134.,  58.],\n",
            "        [102.,  43.,  37.]])\n",
            "tensor([[ 22.,  37.],\n",
            "        [119., 133.],\n",
            "        [119., 133.],\n",
            "        [119., 133.],\n",
            "        [ 22.,  37.]])\n",
            "Batch 3\n",
            "tensor([[ 73.,  67.,  43.],\n",
            "        [ 73.,  67.,  43.],\n",
            "        [ 73.,  67.,  43.],\n",
            "        [102.,  43.,  37.],\n",
            "        [ 91.,  88.,  64.]])\n",
            "tensor([[ 56.,  70.],\n",
            "        [ 56.,  70.],\n",
            "        [ 56.,  70.],\n",
            "        [ 22.,  37.],\n",
            "        [ 81., 101.]])\n"
          ]
        }
      ]
    },
    {
      "cell_type": "code",
      "source": [
        "# Define model\n",
        "model = nn.Linear(3,2)\n",
        "print(model.weight)\n",
        "print(model.bias)"
      ],
      "metadata": {
        "colab": {
          "base_uri": "https://localhost:8080/"
        },
        "id": "h1wV0jM1H6zi",
        "outputId": "2ffbb9fb-5257-4ca0-8a52-d1b221039f15"
      },
      "execution_count": 14,
      "outputs": [
        {
          "output_type": "stream",
          "name": "stdout",
          "text": [
            "Parameter containing:\n",
            "tensor([[ 0.0591,  0.1334, -0.2160],\n",
            "        [ 0.1321,  0.3749,  0.5753]], requires_grad=True)\n",
            "Parameter containing:\n",
            "tensor([ 0.4034, -0.1892], requires_grad=True)\n"
          ]
        }
      ]
    },
    {
      "cell_type": "code",
      "source": [
        "list(model.parameters())"
      ],
      "metadata": {
        "colab": {
          "base_uri": "https://localhost:8080/"
        },
        "id": "6G19Ky_bH62V",
        "outputId": "756cc886-7b5d-4115-d525-3cacfbdfb7b0"
      },
      "execution_count": 15,
      "outputs": [
        {
          "output_type": "execute_result",
          "data": {
            "text/plain": [
              "[Parameter containing:\n",
              " tensor([[ 0.0591,  0.1334, -0.2160],\n",
              "         [ 0.1321,  0.3749,  0.5753]], requires_grad=True),\n",
              " Parameter containing:\n",
              " tensor([ 0.4034, -0.1892], requires_grad=True)]"
            ]
          },
          "metadata": {},
          "execution_count": 15
        }
      ]
    },
    {
      "cell_type": "code",
      "source": [
        "preds = model(inputs)\n",
        "print(preds)"
      ],
      "metadata": {
        "colab": {
          "base_uri": "https://localhost:8080/"
        },
        "id": "0GEh2c2MH66I",
        "outputId": "0a60db5c-fbd3-459c-b674-1350656620bd"
      },
      "execution_count": 16,
      "outputs": [
        {
          "output_type": "stream",
          "name": "stdout",
          "text": [
            "tensor([[ 4.3723, 59.3068],\n",
            "        [ 3.7032, 81.6374],\n",
            "        [10.9011, 94.9013],\n",
            "        [ 4.1797, 50.6893],\n",
            "        [ 2.1745, 85.1817],\n",
            "        [ 4.3723, 59.3068],\n",
            "        [ 3.7032, 81.6374],\n",
            "        [10.9011, 94.9013],\n",
            "        [ 4.1797, 50.6893],\n",
            "        [ 2.1745, 85.1817],\n",
            "        [ 4.3723, 59.3068],\n",
            "        [ 3.7032, 81.6374],\n",
            "        [10.9011, 94.9013],\n",
            "        [ 4.1797, 50.6893],\n",
            "        [ 2.1745, 85.1817]], grad_fn=<AddmmBackward0>)\n"
          ]
        }
      ]
    },
    {
      "cell_type": "code",
      "source": [
        "import torch.nn.functional as F"
      ],
      "metadata": {
        "id": "PTijZzsOH69u"
      },
      "execution_count": 17,
      "outputs": []
    },
    {
      "cell_type": "code",
      "source": [
        "loss_fn = F.mse_loss"
      ],
      "metadata": {
        "id": "NyiKlwv2H7Ah"
      },
      "execution_count": 18,
      "outputs": []
    },
    {
      "cell_type": "code",
      "source": [
        "# ?nn.Linear => Help function to see/ visualize the model and its parameters"
      ],
      "metadata": {
        "id": "rtMzdzbYGYXA"
      },
      "execution_count": 19,
      "outputs": []
    },
    {
      "cell_type": "code",
      "source": [
        "loss = loss_fn(model(inputs),targets)\n",
        "print(loss)"
      ],
      "metadata": {
        "colab": {
          "base_uri": "https://localhost:8080/"
        },
        "id": "5QG-_b-sJSFb",
        "outputId": "26615cd7-ee66-4abf-e6fb-67528825bf03"
      },
      "execution_count": 20,
      "outputs": [
        {
          "output_type": "stream",
          "name": "stdout",
          "text": [
            "tensor(3408.0784, grad_fn=<MseLossBackward0>)\n"
          ]
        }
      ]
    },
    {
      "cell_type": "code",
      "source": [
        "opt = torch.optim.SGD(model.parameters(), lr = 1e-5)"
      ],
      "metadata": {
        "id": "efdcgqDKJSH1"
      },
      "execution_count": 21,
      "outputs": []
    },
    {
      "cell_type": "code",
      "source": [
        "def fit(num_epochs, model, loss_fn, opt):\n",
        "  # Repeat for couple number of epochs\n",
        "  for epoch in range(num_epochs):\n",
        "    for xb,yb in train_dl:\n",
        "      # Generate a prediction\n",
        "      preds = model(xb)\n",
        "      # Calculate the loss value\n",
        "      loss = loss_fn(preds,yb)\n",
        "      # Compute gradients\n",
        "      loss.backward()\n",
        "      # Update parameters using gradients\n",
        "      opt.step()\n",
        "      # Reset the gradients to zero\n",
        "      opt.zero_grad()\n",
        "    # Print the progress\n",
        "    if (epoch+1) % 10 == 0:\n",
        "      print(' Epoch [{}/{}], Loss: {:.4f}'.format(epoch+1, num_epochs,loss.item()))"
      ],
      "metadata": {
        "id": "92a56jn1JSKN"
      },
      "execution_count": 22,
      "outputs": []
    },
    {
      "cell_type": "code",
      "source": [
        "fit(100, model, loss_fn, opt)"
      ],
      "metadata": {
        "colab": {
          "base_uri": "https://localhost:8080/"
        },
        "id": "1gIeD5wpJSNA",
        "outputId": "9563e52b-ac11-4dca-919d-cff0450a16cf"
      },
      "execution_count": 23,
      "outputs": [
        {
          "output_type": "stream",
          "name": "stdout",
          "text": [
            " Epoch [10/100], Loss: 239.8796\n",
            " Epoch [20/100], Loss: 92.3985\n",
            " Epoch [30/100], Loss: 14.9129\n",
            " Epoch [40/100], Loss: 74.4812\n",
            " Epoch [50/100], Loss: 7.6514\n",
            " Epoch [60/100], Loss: 28.1430\n",
            " Epoch [70/100], Loss: 24.3429\n",
            " Epoch [80/100], Loss: 48.3902\n",
            " Epoch [90/100], Loss: 26.8884\n",
            " Epoch [100/100], Loss: 21.7151\n"
          ]
        }
      ]
    },
    {
      "cell_type": "code",
      "source": [
        "list(model.parameters())"
      ],
      "metadata": {
        "colab": {
          "base_uri": "https://localhost:8080/"
        },
        "id": "EPX-k0xVNZT0",
        "outputId": "d634861b-bbfb-43c9-ef93-042556624a6a"
      },
      "execution_count": 25,
      "outputs": [
        {
          "output_type": "execute_result",
          "data": {
            "text/plain": [
              "[Parameter containing:\n",
              " tensor([[-0.1981,  0.9408,  0.2224],\n",
              "         [-0.1913,  0.8014,  0.7340]], requires_grad=True),\n",
              " Parameter containing:\n",
              " tensor([ 0.4041, -0.1908], requires_grad=True)]"
            ]
          },
          "metadata": {},
          "execution_count": 25
        }
      ]
    }
  ]
}