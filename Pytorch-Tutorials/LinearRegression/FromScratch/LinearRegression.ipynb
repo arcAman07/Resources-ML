{
  "nbformat": 4,
  "nbformat_minor": 0,
  "metadata": {
    "colab": {
      "name": "LinearRegression.ipynb",
      "provenance": []
    },
    "kernelspec": {
      "name": "python3",
      "display_name": "Python 3"
    },
    "language_info": {
      "name": "python"
    }
  },
  "cells": [
    {
      "cell_type": "code",
      "execution_count": 1,
      "metadata": {
        "id": "yxsgo2rHHkHy"
      },
      "outputs": [],
      "source": [
        "import numpy as np\n",
        "import torch"
      ]
    },
    {
      "cell_type": "code",
      "source": [
        "# Training data\n",
        "# [Temp, Rainfall, Humidity]\n",
        "inputs = np.array([[73,67,43],[91,88,64],[87,134,58],[102,43,37],[69,96,70]],dtype='float32')\n",
        "# [Apples, Oranges]\n",
        "targets = np.array([[56,70],[81,101],[119,133],[22,37],[103,119]], dtype='float32')"
      ],
      "metadata": {
        "id": "mrBwL4clIPxo"
      },
      "execution_count": 2,
      "outputs": []
    },
    {
      "cell_type": "code",
      "source": [
        "# Weights and biases\n",
        "w = torch.randn(2,3,requires_grad=True)\n",
        "b = torch.randn(2,requires_grad=True)\n",
        "print(w)\n",
        "print(b)"
      ],
      "metadata": {
        "colab": {
          "base_uri": "https://localhost:8080/"
        },
        "id": "qXr71MrBIP0S",
        "outputId": "57f5c4a0-3cf6-4dc7-c39f-d261191fba49"
      },
      "execution_count": 3,
      "outputs": [
        {
          "output_type": "stream",
          "name": "stdout",
          "text": [
            "tensor([[-1.5169, -1.3005, -0.6126],\n",
            "        [-0.0496, -0.7912,  0.6810]], requires_grad=True)\n",
            "tensor([ 1.4124, -0.1572], requires_grad=True)\n"
          ]
        }
      ]
    },
    {
      "cell_type": "code",
      "source": [
        "def model(x):\n",
        "  return torch.matmul(x,torch.transpose(w,0,1)) + b"
      ],
      "metadata": {
        "id": "I-ZNLFgRIP3M"
      },
      "execution_count": 4,
      "outputs": []
    },
    {
      "cell_type": "code",
      "source": [
        "preds = model(torch.from_numpy(inputs))\n",
        "print(preds)"
      ],
      "metadata": {
        "colab": {
          "base_uri": "https://localhost:8080/"
        },
        "id": "HQhigbCnIP5v",
        "outputId": "a3662366-ae38-44fe-e7f4-f146182142ac"
      },
      "execution_count": 5,
      "outputs": [
        {
          "output_type": "stream",
          "name": "stdout",
          "text": [
            "tensor([[-222.7975,  -27.5020],\n",
            "        [-290.2776,  -30.7078],\n",
            "        [-340.3584,  -70.9888],\n",
            "        [-231.8980,  -14.0386],\n",
            "        [-270.9868,  -31.8598]], grad_fn=<AddBackward0>)\n"
          ]
        }
      ]
    },
    {
      "cell_type": "code",
      "source": [
        "print(targets)"
      ],
      "metadata": {
        "colab": {
          "base_uri": "https://localhost:8080/"
        },
        "id": "NpKkCxZCiP6L",
        "outputId": "47792126-3b2e-4aa2-9685-cc49f6952b15"
      },
      "execution_count": 6,
      "outputs": [
        {
          "output_type": "stream",
          "name": "stdout",
          "text": [
            "[[ 56.  70.]\n",
            " [ 81. 101.]\n",
            " [119. 133.]\n",
            " [ 22.  37.]\n",
            " [103. 119.]]\n"
          ]
        }
      ]
    },
    {
      "cell_type": "code",
      "source": [
        "def mse(t1, t2):\n",
        "  diff = t1-t2\n",
        "  return torch.sum(diff*diff)/diff.numel()"
      ],
      "metadata": {
        "id": "rS8u3AnKIQBw"
      },
      "execution_count": 7,
      "outputs": []
    },
    {
      "cell_type": "code",
      "source": [
        "loss = mse(preds,torch.from_numpy(targets))\n",
        "print(loss)"
      ],
      "metadata": {
        "colab": {
          "base_uri": "https://localhost:8080/"
        },
        "id": "s4WPnbOgIQEc",
        "outputId": "17bc3cf4-ba37-45d0-f612-4b81dd084f23"
      },
      "execution_count": 8,
      "outputs": [
        {
          "output_type": "stream",
          "name": "stdout",
          "text": [
            "tensor(72474.4219, grad_fn=<DivBackward0>)\n"
          ]
        }
      ]
    },
    {
      "cell_type": "code",
      "source": [
        "# Compute gradients\n",
        "loss.backward()"
      ],
      "metadata": {
        "id": "X6WKfaJCIQHV"
      },
      "execution_count": 9,
      "outputs": []
    },
    {
      "cell_type": "code",
      "source": [
        "# Gradients for weights\n",
        "print(w)\n",
        "print(w.grad)"
      ],
      "metadata": {
        "colab": {
          "base_uri": "https://localhost:8080/"
        },
        "id": "BMQ2DggMIQKO",
        "outputId": "c1058eed-0431-4510-bbc4-36144d485467"
      },
      "execution_count": 10,
      "outputs": [
        {
          "output_type": "stream",
          "name": "stdout",
          "text": [
            "tensor([[-1.5169, -1.3005, -0.6126],\n",
            "        [-0.0496, -0.7912,  0.6810]], requires_grad=True)\n",
            "tensor([[-29161.0684, -31945.2500, -19593.2305],\n",
            "        [-10493.0684, -12426.9229,  -7380.3691]])\n"
          ]
        }
      ]
    },
    {
      "cell_type": "code",
      "source": [
        "# Gradients for bias values\n",
        "print(b)\n",
        "print(b.grad)"
      ],
      "metadata": {
        "colab": {
          "base_uri": "https://localhost:8080/"
        },
        "id": "pzby3NnxIQNB",
        "outputId": "a64eea39-83bd-4ab4-c7ba-724022e60ad4"
      },
      "execution_count": 11,
      "outputs": [
        {
          "output_type": "stream",
          "name": "stdout",
          "text": [
            "tensor([ 1.4124, -0.1572], requires_grad=True)\n",
            "tensor([-347.4637, -127.0194])\n"
          ]
        }
      ]
    },
    {
      "cell_type": "code",
      "source": [
        "# ADJUST WEIGHTS AND BIASES USING GRADIENT DESCENT\n",
        "with torch.no_grad():\n",
        "  w -= w.grad * 1e-5\n",
        "  b -= b.grad * 1e-5\n",
        "  w.grad.zero_()\n",
        "  b.grad.zero_()"
      ],
      "metadata": {
        "id": "1XLDyaw1IQVI"
      },
      "execution_count": 12,
      "outputs": []
    },
    {
      "cell_type": "code",
      "source": [
        "print(w)\n",
        "print(b)"
      ],
      "metadata": {
        "colab": {
          "base_uri": "https://localhost:8080/"
        },
        "id": "MVRRkgb6IQaX",
        "outputId": "d6120342-eb76-49c6-8a23-1501deec6ab6"
      },
      "execution_count": 13,
      "outputs": [
        {
          "output_type": "stream",
          "name": "stdout",
          "text": [
            "tensor([[-1.2253, -0.9811, -0.4167],\n",
            "        [ 0.0553, -0.6669,  0.7548]], requires_grad=True)\n",
            "tensor([ 1.4159, -0.1560], requires_grad=True)\n"
          ]
        }
      ]
    },
    {
      "cell_type": "code",
      "source": [
        "# Train for multiple epochs\n",
        "for i in range(0,3000):\n",
        "  preds = model(torch.from_numpy(inputs))\n",
        "  loss =  mse(preds,torch.from_numpy(targets))\n",
        "  loss.backward()\n",
        "  with torch.no_grad():\n",
        "    w -= w.grad * 1e-5\n",
        "    b -= b.grad * 1e-5\n",
        "    w.grad.zero_()\n",
        "    b.grad.zero_()"
      ],
      "metadata": {
        "id": "5XTJtH-8eDuM"
      },
      "execution_count": 14,
      "outputs": []
    },
    {
      "cell_type": "code",
      "source": [
        "new_preds = model(torch.from_numpy(inputs))"
      ],
      "metadata": {
        "id": "r3K4IBlngTVS"
      },
      "execution_count": 15,
      "outputs": []
    },
    {
      "cell_type": "code",
      "source": [
        "new_loss = mse(new_preds,torch.from_numpy(targets))"
      ],
      "metadata": {
        "id": "84XD46qHeINq"
      },
      "execution_count": 16,
      "outputs": []
    },
    {
      "cell_type": "code",
      "source": [
        "print(new_loss)"
      ],
      "metadata": {
        "colab": {
          "base_uri": "https://localhost:8080/"
        },
        "id": "X_156-rNeIQ3",
        "outputId": "4e8e1bd9-0ef2-41d5-a1fb-de2285d1eeba"
      },
      "execution_count": 17,
      "outputs": [
        {
          "output_type": "stream",
          "name": "stdout",
          "text": [
            "tensor(0.5594, grad_fn=<DivBackward0>)\n"
          ]
        }
      ]
    },
    {
      "cell_type": "code",
      "source": [
        "print(new_preds)"
      ],
      "metadata": {
        "colab": {
          "base_uri": "https://localhost:8080/"
        },
        "id": "xaaKp0qsgRDV",
        "outputId": "546c3006-31f8-4670-84f0-6863330ac822"
      },
      "execution_count": 18,
      "outputs": [
        {
          "output_type": "stream",
          "name": "stdout",
          "text": [
            "tensor([[ 57.4122,  70.2675],\n",
            "        [ 81.9899, 100.8126],\n",
            "        [118.7939, 132.7007],\n",
            "        [ 21.0905,  36.9452],\n",
            "        [101.8192, 119.3953]], grad_fn=<AddBackward0>)\n"
          ]
        }
      ]
    },
    {
      "cell_type": "code",
      "source": [
        "print(w)\n",
        "print(b)"
      ],
      "metadata": {
        "colab": {
          "base_uri": "https://localhost:8080/"
        },
        "id": "cwy8SpeFgYua",
        "outputId": "fa06f142-92f4-41c5-df91-5dccea419ead"
      },
      "execution_count": 19,
      "outputs": [
        {
          "output_type": "stream",
          "name": "stdout",
          "text": [
            "tensor([[-0.4091,  0.8518,  0.6692],\n",
            "        [-0.3050,  0.7878,  0.9282]], requires_grad=True)\n",
            "tensor([ 1.4282, -0.1584], requires_grad=True)\n"
          ]
        }
      ]
    }
  ]
}