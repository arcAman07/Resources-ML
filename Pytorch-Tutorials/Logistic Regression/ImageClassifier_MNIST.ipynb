{
  "nbformat": 4,
  "nbformat_minor": 0,
  "metadata": {
    "colab": {
      "name": "ImageClassifier-MNIST.ipynb",
      "provenance": []
    },
    "kernelspec": {
      "name": "python3",
      "display_name": "Python 3"
    },
    "language_info": {
      "name": "python"
    },
    "widgets": {
      "application/vnd.jupyter.widget-state+json": {
        "363ba653861e43429db951335ebdc706": {
          "model_module": "@jupyter-widgets/controls",
          "model_name": "HBoxModel",
          "model_module_version": "1.5.0",
          "state": {
            "_dom_classes": [],
            "_model_module": "@jupyter-widgets/controls",
            "_model_module_version": "1.5.0",
            "_model_name": "HBoxModel",
            "_view_count": null,
            "_view_module": "@jupyter-widgets/controls",
            "_view_module_version": "1.5.0",
            "_view_name": "HBoxView",
            "box_style": "",
            "children": [
              "IPY_MODEL_6f10743e120544a3849764a2b5441a02",
              "IPY_MODEL_ab24420024cc4e0a81ca1d272cc26375",
              "IPY_MODEL_27e2d9328f064388958f016603f42613"
            ],
            "layout": "IPY_MODEL_9a05497b377d458fa860e5c06f2731b7"
          }
        },
        "6f10743e120544a3849764a2b5441a02": {
          "model_module": "@jupyter-widgets/controls",
          "model_name": "HTMLModel",
          "model_module_version": "1.5.0",
          "state": {
            "_dom_classes": [],
            "_model_module": "@jupyter-widgets/controls",
            "_model_module_version": "1.5.0",
            "_model_name": "HTMLModel",
            "_view_count": null,
            "_view_module": "@jupyter-widgets/controls",
            "_view_module_version": "1.5.0",
            "_view_name": "HTMLView",
            "description": "",
            "description_tooltip": null,
            "layout": "IPY_MODEL_1621340762934d69bf9e92d1e7c65263",
            "placeholder": "​",
            "style": "IPY_MODEL_3cc23d36f3224eca9f54ca8fa0925753",
            "value": ""
          }
        },
        "ab24420024cc4e0a81ca1d272cc26375": {
          "model_module": "@jupyter-widgets/controls",
          "model_name": "FloatProgressModel",
          "model_module_version": "1.5.0",
          "state": {
            "_dom_classes": [],
            "_model_module": "@jupyter-widgets/controls",
            "_model_module_version": "1.5.0",
            "_model_name": "FloatProgressModel",
            "_view_count": null,
            "_view_module": "@jupyter-widgets/controls",
            "_view_module_version": "1.5.0",
            "_view_name": "ProgressView",
            "bar_style": "success",
            "description": "",
            "description_tooltip": null,
            "layout": "IPY_MODEL_ebb5e26b755b46b8ac6152b96eb9050c",
            "max": 9912422,
            "min": 0,
            "orientation": "horizontal",
            "style": "IPY_MODEL_ee49e7199ed341059ef8557971cc0ae3",
            "value": 9912422
          }
        },
        "27e2d9328f064388958f016603f42613": {
          "model_module": "@jupyter-widgets/controls",
          "model_name": "HTMLModel",
          "model_module_version": "1.5.0",
          "state": {
            "_dom_classes": [],
            "_model_module": "@jupyter-widgets/controls",
            "_model_module_version": "1.5.0",
            "_model_name": "HTMLModel",
            "_view_count": null,
            "_view_module": "@jupyter-widgets/controls",
            "_view_module_version": "1.5.0",
            "_view_name": "HTMLView",
            "description": "",
            "description_tooltip": null,
            "layout": "IPY_MODEL_9e20eadb8f414dd8b5e1bbfe8344d8ea",
            "placeholder": "​",
            "style": "IPY_MODEL_81456ddd4a134d389f73fd1a0c6a7a1f",
            "value": " 9913344/? [00:00&lt;00:00, 42541029.50it/s]"
          }
        },
        "9a05497b377d458fa860e5c06f2731b7": {
          "model_module": "@jupyter-widgets/base",
          "model_name": "LayoutModel",
          "model_module_version": "1.2.0",
          "state": {
            "_model_module": "@jupyter-widgets/base",
            "_model_module_version": "1.2.0",
            "_model_name": "LayoutModel",
            "_view_count": null,
            "_view_module": "@jupyter-widgets/base",
            "_view_module_version": "1.2.0",
            "_view_name": "LayoutView",
            "align_content": null,
            "align_items": null,
            "align_self": null,
            "border": null,
            "bottom": null,
            "display": null,
            "flex": null,
            "flex_flow": null,
            "grid_area": null,
            "grid_auto_columns": null,
            "grid_auto_flow": null,
            "grid_auto_rows": null,
            "grid_column": null,
            "grid_gap": null,
            "grid_row": null,
            "grid_template_areas": null,
            "grid_template_columns": null,
            "grid_template_rows": null,
            "height": null,
            "justify_content": null,
            "justify_items": null,
            "left": null,
            "margin": null,
            "max_height": null,
            "max_width": null,
            "min_height": null,
            "min_width": null,
            "object_fit": null,
            "object_position": null,
            "order": null,
            "overflow": null,
            "overflow_x": null,
            "overflow_y": null,
            "padding": null,
            "right": null,
            "top": null,
            "visibility": null,
            "width": null
          }
        },
        "1621340762934d69bf9e92d1e7c65263": {
          "model_module": "@jupyter-widgets/base",
          "model_name": "LayoutModel",
          "model_module_version": "1.2.0",
          "state": {
            "_model_module": "@jupyter-widgets/base",
            "_model_module_version": "1.2.0",
            "_model_name": "LayoutModel",
            "_view_count": null,
            "_view_module": "@jupyter-widgets/base",
            "_view_module_version": "1.2.0",
            "_view_name": "LayoutView",
            "align_content": null,
            "align_items": null,
            "align_self": null,
            "border": null,
            "bottom": null,
            "display": null,
            "flex": null,
            "flex_flow": null,
            "grid_area": null,
            "grid_auto_columns": null,
            "grid_auto_flow": null,
            "grid_auto_rows": null,
            "grid_column": null,
            "grid_gap": null,
            "grid_row": null,
            "grid_template_areas": null,
            "grid_template_columns": null,
            "grid_template_rows": null,
            "height": null,
            "justify_content": null,
            "justify_items": null,
            "left": null,
            "margin": null,
            "max_height": null,
            "max_width": null,
            "min_height": null,
            "min_width": null,
            "object_fit": null,
            "object_position": null,
            "order": null,
            "overflow": null,
            "overflow_x": null,
            "overflow_y": null,
            "padding": null,
            "right": null,
            "top": null,
            "visibility": null,
            "width": null
          }
        },
        "3cc23d36f3224eca9f54ca8fa0925753": {
          "model_module": "@jupyter-widgets/controls",
          "model_name": "DescriptionStyleModel",
          "model_module_version": "1.5.0",
          "state": {
            "_model_module": "@jupyter-widgets/controls",
            "_model_module_version": "1.5.0",
            "_model_name": "DescriptionStyleModel",
            "_view_count": null,
            "_view_module": "@jupyter-widgets/base",
            "_view_module_version": "1.2.0",
            "_view_name": "StyleView",
            "description_width": ""
          }
        },
        "ebb5e26b755b46b8ac6152b96eb9050c": {
          "model_module": "@jupyter-widgets/base",
          "model_name": "LayoutModel",
          "model_module_version": "1.2.0",
          "state": {
            "_model_module": "@jupyter-widgets/base",
            "_model_module_version": "1.2.0",
            "_model_name": "LayoutModel",
            "_view_count": null,
            "_view_module": "@jupyter-widgets/base",
            "_view_module_version": "1.2.0",
            "_view_name": "LayoutView",
            "align_content": null,
            "align_items": null,
            "align_self": null,
            "border": null,
            "bottom": null,
            "display": null,
            "flex": null,
            "flex_flow": null,
            "grid_area": null,
            "grid_auto_columns": null,
            "grid_auto_flow": null,
            "grid_auto_rows": null,
            "grid_column": null,
            "grid_gap": null,
            "grid_row": null,
            "grid_template_areas": null,
            "grid_template_columns": null,
            "grid_template_rows": null,
            "height": null,
            "justify_content": null,
            "justify_items": null,
            "left": null,
            "margin": null,
            "max_height": null,
            "max_width": null,
            "min_height": null,
            "min_width": null,
            "object_fit": null,
            "object_position": null,
            "order": null,
            "overflow": null,
            "overflow_x": null,
            "overflow_y": null,
            "padding": null,
            "right": null,
            "top": null,
            "visibility": null,
            "width": null
          }
        },
        "ee49e7199ed341059ef8557971cc0ae3": {
          "model_module": "@jupyter-widgets/controls",
          "model_name": "ProgressStyleModel",
          "model_module_version": "1.5.0",
          "state": {
            "_model_module": "@jupyter-widgets/controls",
            "_model_module_version": "1.5.0",
            "_model_name": "ProgressStyleModel",
            "_view_count": null,
            "_view_module": "@jupyter-widgets/base",
            "_view_module_version": "1.2.0",
            "_view_name": "StyleView",
            "bar_color": null,
            "description_width": ""
          }
        },
        "9e20eadb8f414dd8b5e1bbfe8344d8ea": {
          "model_module": "@jupyter-widgets/base",
          "model_name": "LayoutModel",
          "model_module_version": "1.2.0",
          "state": {
            "_model_module": "@jupyter-widgets/base",
            "_model_module_version": "1.2.0",
            "_model_name": "LayoutModel",
            "_view_count": null,
            "_view_module": "@jupyter-widgets/base",
            "_view_module_version": "1.2.0",
            "_view_name": "LayoutView",
            "align_content": null,
            "align_items": null,
            "align_self": null,
            "border": null,
            "bottom": null,
            "display": null,
            "flex": null,
            "flex_flow": null,
            "grid_area": null,
            "grid_auto_columns": null,
            "grid_auto_flow": null,
            "grid_auto_rows": null,
            "grid_column": null,
            "grid_gap": null,
            "grid_row": null,
            "grid_template_areas": null,
            "grid_template_columns": null,
            "grid_template_rows": null,
            "height": null,
            "justify_content": null,
            "justify_items": null,
            "left": null,
            "margin": null,
            "max_height": null,
            "max_width": null,
            "min_height": null,
            "min_width": null,
            "object_fit": null,
            "object_position": null,
            "order": null,
            "overflow": null,
            "overflow_x": null,
            "overflow_y": null,
            "padding": null,
            "right": null,
            "top": null,
            "visibility": null,
            "width": null
          }
        },
        "81456ddd4a134d389f73fd1a0c6a7a1f": {
          "model_module": "@jupyter-widgets/controls",
          "model_name": "DescriptionStyleModel",
          "model_module_version": "1.5.0",
          "state": {
            "_model_module": "@jupyter-widgets/controls",
            "_model_module_version": "1.5.0",
            "_model_name": "DescriptionStyleModel",
            "_view_count": null,
            "_view_module": "@jupyter-widgets/base",
            "_view_module_version": "1.2.0",
            "_view_name": "StyleView",
            "description_width": ""
          }
        },
        "9baaa89d338b4741b280d277a5bb72e2": {
          "model_module": "@jupyter-widgets/controls",
          "model_name": "HBoxModel",
          "model_module_version": "1.5.0",
          "state": {
            "_dom_classes": [],
            "_model_module": "@jupyter-widgets/controls",
            "_model_module_version": "1.5.0",
            "_model_name": "HBoxModel",
            "_view_count": null,
            "_view_module": "@jupyter-widgets/controls",
            "_view_module_version": "1.5.0",
            "_view_name": "HBoxView",
            "box_style": "",
            "children": [
              "IPY_MODEL_f794a505e2d149b88a7a419a6778ce86",
              "IPY_MODEL_94ef1d43a6754671bad68dc049875b51",
              "IPY_MODEL_c0f86b305a824d689d5b31578cb21e44"
            ],
            "layout": "IPY_MODEL_86a911fa7c6f4e48a9c4b9ce721eed1b"
          }
        },
        "f794a505e2d149b88a7a419a6778ce86": {
          "model_module": "@jupyter-widgets/controls",
          "model_name": "HTMLModel",
          "model_module_version": "1.5.0",
          "state": {
            "_dom_classes": [],
            "_model_module": "@jupyter-widgets/controls",
            "_model_module_version": "1.5.0",
            "_model_name": "HTMLModel",
            "_view_count": null,
            "_view_module": "@jupyter-widgets/controls",
            "_view_module_version": "1.5.0",
            "_view_name": "HTMLView",
            "description": "",
            "description_tooltip": null,
            "layout": "IPY_MODEL_174134d09e144e87b269a25a4199115a",
            "placeholder": "​",
            "style": "IPY_MODEL_a6ca6e34f65e49c4b9117dccb6a04522",
            "value": ""
          }
        },
        "94ef1d43a6754671bad68dc049875b51": {
          "model_module": "@jupyter-widgets/controls",
          "model_name": "FloatProgressModel",
          "model_module_version": "1.5.0",
          "state": {
            "_dom_classes": [],
            "_model_module": "@jupyter-widgets/controls",
            "_model_module_version": "1.5.0",
            "_model_name": "FloatProgressModel",
            "_view_count": null,
            "_view_module": "@jupyter-widgets/controls",
            "_view_module_version": "1.5.0",
            "_view_name": "ProgressView",
            "bar_style": "success",
            "description": "",
            "description_tooltip": null,
            "layout": "IPY_MODEL_79965e2dd3184bc18483247fa2fa1b0f",
            "max": 28881,
            "min": 0,
            "orientation": "horizontal",
            "style": "IPY_MODEL_a1d82af835934b059ba6c27321aa1102",
            "value": 28881
          }
        },
        "c0f86b305a824d689d5b31578cb21e44": {
          "model_module": "@jupyter-widgets/controls",
          "model_name": "HTMLModel",
          "model_module_version": "1.5.0",
          "state": {
            "_dom_classes": [],
            "_model_module": "@jupyter-widgets/controls",
            "_model_module_version": "1.5.0",
            "_model_name": "HTMLModel",
            "_view_count": null,
            "_view_module": "@jupyter-widgets/controls",
            "_view_module_version": "1.5.0",
            "_view_name": "HTMLView",
            "description": "",
            "description_tooltip": null,
            "layout": "IPY_MODEL_2a8e3322e822435a87449700b83a0b54",
            "placeholder": "​",
            "style": "IPY_MODEL_8d518119b42f464580b664c86fbdd0e4",
            "value": " 29696/? [00:00&lt;00:00, 855030.83it/s]"
          }
        },
        "86a911fa7c6f4e48a9c4b9ce721eed1b": {
          "model_module": "@jupyter-widgets/base",
          "model_name": "LayoutModel",
          "model_module_version": "1.2.0",
          "state": {
            "_model_module": "@jupyter-widgets/base",
            "_model_module_version": "1.2.0",
            "_model_name": "LayoutModel",
            "_view_count": null,
            "_view_module": "@jupyter-widgets/base",
            "_view_module_version": "1.2.0",
            "_view_name": "LayoutView",
            "align_content": null,
            "align_items": null,
            "align_self": null,
            "border": null,
            "bottom": null,
            "display": null,
            "flex": null,
            "flex_flow": null,
            "grid_area": null,
            "grid_auto_columns": null,
            "grid_auto_flow": null,
            "grid_auto_rows": null,
            "grid_column": null,
            "grid_gap": null,
            "grid_row": null,
            "grid_template_areas": null,
            "grid_template_columns": null,
            "grid_template_rows": null,
            "height": null,
            "justify_content": null,
            "justify_items": null,
            "left": null,
            "margin": null,
            "max_height": null,
            "max_width": null,
            "min_height": null,
            "min_width": null,
            "object_fit": null,
            "object_position": null,
            "order": null,
            "overflow": null,
            "overflow_x": null,
            "overflow_y": null,
            "padding": null,
            "right": null,
            "top": null,
            "visibility": null,
            "width": null
          }
        },
        "174134d09e144e87b269a25a4199115a": {
          "model_module": "@jupyter-widgets/base",
          "model_name": "LayoutModel",
          "model_module_version": "1.2.0",
          "state": {
            "_model_module": "@jupyter-widgets/base",
            "_model_module_version": "1.2.0",
            "_model_name": "LayoutModel",
            "_view_count": null,
            "_view_module": "@jupyter-widgets/base",
            "_view_module_version": "1.2.0",
            "_view_name": "LayoutView",
            "align_content": null,
            "align_items": null,
            "align_self": null,
            "border": null,
            "bottom": null,
            "display": null,
            "flex": null,
            "flex_flow": null,
            "grid_area": null,
            "grid_auto_columns": null,
            "grid_auto_flow": null,
            "grid_auto_rows": null,
            "grid_column": null,
            "grid_gap": null,
            "grid_row": null,
            "grid_template_areas": null,
            "grid_template_columns": null,
            "grid_template_rows": null,
            "height": null,
            "justify_content": null,
            "justify_items": null,
            "left": null,
            "margin": null,
            "max_height": null,
            "max_width": null,
            "min_height": null,
            "min_width": null,
            "object_fit": null,
            "object_position": null,
            "order": null,
            "overflow": null,
            "overflow_x": null,
            "overflow_y": null,
            "padding": null,
            "right": null,
            "top": null,
            "visibility": null,
            "width": null
          }
        },
        "a6ca6e34f65e49c4b9117dccb6a04522": {
          "model_module": "@jupyter-widgets/controls",
          "model_name": "DescriptionStyleModel",
          "model_module_version": "1.5.0",
          "state": {
            "_model_module": "@jupyter-widgets/controls",
            "_model_module_version": "1.5.0",
            "_model_name": "DescriptionStyleModel",
            "_view_count": null,
            "_view_module": "@jupyter-widgets/base",
            "_view_module_version": "1.2.0",
            "_view_name": "StyleView",
            "description_width": ""
          }
        },
        "79965e2dd3184bc18483247fa2fa1b0f": {
          "model_module": "@jupyter-widgets/base",
          "model_name": "LayoutModel",
          "model_module_version": "1.2.0",
          "state": {
            "_model_module": "@jupyter-widgets/base",
            "_model_module_version": "1.2.0",
            "_model_name": "LayoutModel",
            "_view_count": null,
            "_view_module": "@jupyter-widgets/base",
            "_view_module_version": "1.2.0",
            "_view_name": "LayoutView",
            "align_content": null,
            "align_items": null,
            "align_self": null,
            "border": null,
            "bottom": null,
            "display": null,
            "flex": null,
            "flex_flow": null,
            "grid_area": null,
            "grid_auto_columns": null,
            "grid_auto_flow": null,
            "grid_auto_rows": null,
            "grid_column": null,
            "grid_gap": null,
            "grid_row": null,
            "grid_template_areas": null,
            "grid_template_columns": null,
            "grid_template_rows": null,
            "height": null,
            "justify_content": null,
            "justify_items": null,
            "left": null,
            "margin": null,
            "max_height": null,
            "max_width": null,
            "min_height": null,
            "min_width": null,
            "object_fit": null,
            "object_position": null,
            "order": null,
            "overflow": null,
            "overflow_x": null,
            "overflow_y": null,
            "padding": null,
            "right": null,
            "top": null,
            "visibility": null,
            "width": null
          }
        },
        "a1d82af835934b059ba6c27321aa1102": {
          "model_module": "@jupyter-widgets/controls",
          "model_name": "ProgressStyleModel",
          "model_module_version": "1.5.0",
          "state": {
            "_model_module": "@jupyter-widgets/controls",
            "_model_module_version": "1.5.0",
            "_model_name": "ProgressStyleModel",
            "_view_count": null,
            "_view_module": "@jupyter-widgets/base",
            "_view_module_version": "1.2.0",
            "_view_name": "StyleView",
            "bar_color": null,
            "description_width": ""
          }
        },
        "2a8e3322e822435a87449700b83a0b54": {
          "model_module": "@jupyter-widgets/base",
          "model_name": "LayoutModel",
          "model_module_version": "1.2.0",
          "state": {
            "_model_module": "@jupyter-widgets/base",
            "_model_module_version": "1.2.0",
            "_model_name": "LayoutModel",
            "_view_count": null,
            "_view_module": "@jupyter-widgets/base",
            "_view_module_version": "1.2.0",
            "_view_name": "LayoutView",
            "align_content": null,
            "align_items": null,
            "align_self": null,
            "border": null,
            "bottom": null,
            "display": null,
            "flex": null,
            "flex_flow": null,
            "grid_area": null,
            "grid_auto_columns": null,
            "grid_auto_flow": null,
            "grid_auto_rows": null,
            "grid_column": null,
            "grid_gap": null,
            "grid_row": null,
            "grid_template_areas": null,
            "grid_template_columns": null,
            "grid_template_rows": null,
            "height": null,
            "justify_content": null,
            "justify_items": null,
            "left": null,
            "margin": null,
            "max_height": null,
            "max_width": null,
            "min_height": null,
            "min_width": null,
            "object_fit": null,
            "object_position": null,
            "order": null,
            "overflow": null,
            "overflow_x": null,
            "overflow_y": null,
            "padding": null,
            "right": null,
            "top": null,
            "visibility": null,
            "width": null
          }
        },
        "8d518119b42f464580b664c86fbdd0e4": {
          "model_module": "@jupyter-widgets/controls",
          "model_name": "DescriptionStyleModel",
          "model_module_version": "1.5.0",
          "state": {
            "_model_module": "@jupyter-widgets/controls",
            "_model_module_version": "1.5.0",
            "_model_name": "DescriptionStyleModel",
            "_view_count": null,
            "_view_module": "@jupyter-widgets/base",
            "_view_module_version": "1.2.0",
            "_view_name": "StyleView",
            "description_width": ""
          }
        },
        "8d9e57f5fe9d4a67935d5e118878618c": {
          "model_module": "@jupyter-widgets/controls",
          "model_name": "HBoxModel",
          "model_module_version": "1.5.0",
          "state": {
            "_dom_classes": [],
            "_model_module": "@jupyter-widgets/controls",
            "_model_module_version": "1.5.0",
            "_model_name": "HBoxModel",
            "_view_count": null,
            "_view_module": "@jupyter-widgets/controls",
            "_view_module_version": "1.5.0",
            "_view_name": "HBoxView",
            "box_style": "",
            "children": [
              "IPY_MODEL_e8814f2e06b44893a0031a071b68ed24",
              "IPY_MODEL_6a7ed0e6e4b64b6ca285773809985b07",
              "IPY_MODEL_51e3eaa35ffd4815a3c1ad39bf647c5b"
            ],
            "layout": "IPY_MODEL_eed7df4fd97c4f7382104f922238f4fe"
          }
        },
        "e8814f2e06b44893a0031a071b68ed24": {
          "model_module": "@jupyter-widgets/controls",
          "model_name": "HTMLModel",
          "model_module_version": "1.5.0",
          "state": {
            "_dom_classes": [],
            "_model_module": "@jupyter-widgets/controls",
            "_model_module_version": "1.5.0",
            "_model_name": "HTMLModel",
            "_view_count": null,
            "_view_module": "@jupyter-widgets/controls",
            "_view_module_version": "1.5.0",
            "_view_name": "HTMLView",
            "description": "",
            "description_tooltip": null,
            "layout": "IPY_MODEL_a96226b6dbc14ca9aab502a5e3d88367",
            "placeholder": "​",
            "style": "IPY_MODEL_48b991f84f5145b0abb471e2c65de706",
            "value": ""
          }
        },
        "6a7ed0e6e4b64b6ca285773809985b07": {
          "model_module": "@jupyter-widgets/controls",
          "model_name": "FloatProgressModel",
          "model_module_version": "1.5.0",
          "state": {
            "_dom_classes": [],
            "_model_module": "@jupyter-widgets/controls",
            "_model_module_version": "1.5.0",
            "_model_name": "FloatProgressModel",
            "_view_count": null,
            "_view_module": "@jupyter-widgets/controls",
            "_view_module_version": "1.5.0",
            "_view_name": "ProgressView",
            "bar_style": "success",
            "description": "",
            "description_tooltip": null,
            "layout": "IPY_MODEL_9ab9942880d8474fb0f7d1fb3c9e5b6f",
            "max": 1648877,
            "min": 0,
            "orientation": "horizontal",
            "style": "IPY_MODEL_0e317ae257db4d858ca3ffd13513d865",
            "value": 1648877
          }
        },
        "51e3eaa35ffd4815a3c1ad39bf647c5b": {
          "model_module": "@jupyter-widgets/controls",
          "model_name": "HTMLModel",
          "model_module_version": "1.5.0",
          "state": {
            "_dom_classes": [],
            "_model_module": "@jupyter-widgets/controls",
            "_model_module_version": "1.5.0",
            "_model_name": "HTMLModel",
            "_view_count": null,
            "_view_module": "@jupyter-widgets/controls",
            "_view_module_version": "1.5.0",
            "_view_name": "HTMLView",
            "description": "",
            "description_tooltip": null,
            "layout": "IPY_MODEL_cc4933da39a747d18fd85fd2e5ced86c",
            "placeholder": "​",
            "style": "IPY_MODEL_9bf97c81c97549758667efcdf8acc279",
            "value": " 1649664/? [00:00&lt;00:00, 9470778.34it/s]"
          }
        },
        "eed7df4fd97c4f7382104f922238f4fe": {
          "model_module": "@jupyter-widgets/base",
          "model_name": "LayoutModel",
          "model_module_version": "1.2.0",
          "state": {
            "_model_module": "@jupyter-widgets/base",
            "_model_module_version": "1.2.0",
            "_model_name": "LayoutModel",
            "_view_count": null,
            "_view_module": "@jupyter-widgets/base",
            "_view_module_version": "1.2.0",
            "_view_name": "LayoutView",
            "align_content": null,
            "align_items": null,
            "align_self": null,
            "border": null,
            "bottom": null,
            "display": null,
            "flex": null,
            "flex_flow": null,
            "grid_area": null,
            "grid_auto_columns": null,
            "grid_auto_flow": null,
            "grid_auto_rows": null,
            "grid_column": null,
            "grid_gap": null,
            "grid_row": null,
            "grid_template_areas": null,
            "grid_template_columns": null,
            "grid_template_rows": null,
            "height": null,
            "justify_content": null,
            "justify_items": null,
            "left": null,
            "margin": null,
            "max_height": null,
            "max_width": null,
            "min_height": null,
            "min_width": null,
            "object_fit": null,
            "object_position": null,
            "order": null,
            "overflow": null,
            "overflow_x": null,
            "overflow_y": null,
            "padding": null,
            "right": null,
            "top": null,
            "visibility": null,
            "width": null
          }
        },
        "a96226b6dbc14ca9aab502a5e3d88367": {
          "model_module": "@jupyter-widgets/base",
          "model_name": "LayoutModel",
          "model_module_version": "1.2.0",
          "state": {
            "_model_module": "@jupyter-widgets/base",
            "_model_module_version": "1.2.0",
            "_model_name": "LayoutModel",
            "_view_count": null,
            "_view_module": "@jupyter-widgets/base",
            "_view_module_version": "1.2.0",
            "_view_name": "LayoutView",
            "align_content": null,
            "align_items": null,
            "align_self": null,
            "border": null,
            "bottom": null,
            "display": null,
            "flex": null,
            "flex_flow": null,
            "grid_area": null,
            "grid_auto_columns": null,
            "grid_auto_flow": null,
            "grid_auto_rows": null,
            "grid_column": null,
            "grid_gap": null,
            "grid_row": null,
            "grid_template_areas": null,
            "grid_template_columns": null,
            "grid_template_rows": null,
            "height": null,
            "justify_content": null,
            "justify_items": null,
            "left": null,
            "margin": null,
            "max_height": null,
            "max_width": null,
            "min_height": null,
            "min_width": null,
            "object_fit": null,
            "object_position": null,
            "order": null,
            "overflow": null,
            "overflow_x": null,
            "overflow_y": null,
            "padding": null,
            "right": null,
            "top": null,
            "visibility": null,
            "width": null
          }
        },
        "48b991f84f5145b0abb471e2c65de706": {
          "model_module": "@jupyter-widgets/controls",
          "model_name": "DescriptionStyleModel",
          "model_module_version": "1.5.0",
          "state": {
            "_model_module": "@jupyter-widgets/controls",
            "_model_module_version": "1.5.0",
            "_model_name": "DescriptionStyleModel",
            "_view_count": null,
            "_view_module": "@jupyter-widgets/base",
            "_view_module_version": "1.2.0",
            "_view_name": "StyleView",
            "description_width": ""
          }
        },
        "9ab9942880d8474fb0f7d1fb3c9e5b6f": {
          "model_module": "@jupyter-widgets/base",
          "model_name": "LayoutModel",
          "model_module_version": "1.2.0",
          "state": {
            "_model_module": "@jupyter-widgets/base",
            "_model_module_version": "1.2.0",
            "_model_name": "LayoutModel",
            "_view_count": null,
            "_view_module": "@jupyter-widgets/base",
            "_view_module_version": "1.2.0",
            "_view_name": "LayoutView",
            "align_content": null,
            "align_items": null,
            "align_self": null,
            "border": null,
            "bottom": null,
            "display": null,
            "flex": null,
            "flex_flow": null,
            "grid_area": null,
            "grid_auto_columns": null,
            "grid_auto_flow": null,
            "grid_auto_rows": null,
            "grid_column": null,
            "grid_gap": null,
            "grid_row": null,
            "grid_template_areas": null,
            "grid_template_columns": null,
            "grid_template_rows": null,
            "height": null,
            "justify_content": null,
            "justify_items": null,
            "left": null,
            "margin": null,
            "max_height": null,
            "max_width": null,
            "min_height": null,
            "min_width": null,
            "object_fit": null,
            "object_position": null,
            "order": null,
            "overflow": null,
            "overflow_x": null,
            "overflow_y": null,
            "padding": null,
            "right": null,
            "top": null,
            "visibility": null,
            "width": null
          }
        },
        "0e317ae257db4d858ca3ffd13513d865": {
          "model_module": "@jupyter-widgets/controls",
          "model_name": "ProgressStyleModel",
          "model_module_version": "1.5.0",
          "state": {
            "_model_module": "@jupyter-widgets/controls",
            "_model_module_version": "1.5.0",
            "_model_name": "ProgressStyleModel",
            "_view_count": null,
            "_view_module": "@jupyter-widgets/base",
            "_view_module_version": "1.2.0",
            "_view_name": "StyleView",
            "bar_color": null,
            "description_width": ""
          }
        },
        "cc4933da39a747d18fd85fd2e5ced86c": {
          "model_module": "@jupyter-widgets/base",
          "model_name": "LayoutModel",
          "model_module_version": "1.2.0",
          "state": {
            "_model_module": "@jupyter-widgets/base",
            "_model_module_version": "1.2.0",
            "_model_name": "LayoutModel",
            "_view_count": null,
            "_view_module": "@jupyter-widgets/base",
            "_view_module_version": "1.2.0",
            "_view_name": "LayoutView",
            "align_content": null,
            "align_items": null,
            "align_self": null,
            "border": null,
            "bottom": null,
            "display": null,
            "flex": null,
            "flex_flow": null,
            "grid_area": null,
            "grid_auto_columns": null,
            "grid_auto_flow": null,
            "grid_auto_rows": null,
            "grid_column": null,
            "grid_gap": null,
            "grid_row": null,
            "grid_template_areas": null,
            "grid_template_columns": null,
            "grid_template_rows": null,
            "height": null,
            "justify_content": null,
            "justify_items": null,
            "left": null,
            "margin": null,
            "max_height": null,
            "max_width": null,
            "min_height": null,
            "min_width": null,
            "object_fit": null,
            "object_position": null,
            "order": null,
            "overflow": null,
            "overflow_x": null,
            "overflow_y": null,
            "padding": null,
            "right": null,
            "top": null,
            "visibility": null,
            "width": null
          }
        },
        "9bf97c81c97549758667efcdf8acc279": {
          "model_module": "@jupyter-widgets/controls",
          "model_name": "DescriptionStyleModel",
          "model_module_version": "1.5.0",
          "state": {
            "_model_module": "@jupyter-widgets/controls",
            "_model_module_version": "1.5.0",
            "_model_name": "DescriptionStyleModel",
            "_view_count": null,
            "_view_module": "@jupyter-widgets/base",
            "_view_module_version": "1.2.0",
            "_view_name": "StyleView",
            "description_width": ""
          }
        },
        "c72eced2162d41f182e14e21744ecbef": {
          "model_module": "@jupyter-widgets/controls",
          "model_name": "HBoxModel",
          "model_module_version": "1.5.0",
          "state": {
            "_dom_classes": [],
            "_model_module": "@jupyter-widgets/controls",
            "_model_module_version": "1.5.0",
            "_model_name": "HBoxModel",
            "_view_count": null,
            "_view_module": "@jupyter-widgets/controls",
            "_view_module_version": "1.5.0",
            "_view_name": "HBoxView",
            "box_style": "",
            "children": [
              "IPY_MODEL_ae21f41c483b4f60a62aa30629e79f4b",
              "IPY_MODEL_3635b68b215942b28693fc0897065759",
              "IPY_MODEL_5a64fa6602b64594863294f5f1859bc7"
            ],
            "layout": "IPY_MODEL_82742e7c7acf4b2bb96fc39d8da50928"
          }
        },
        "ae21f41c483b4f60a62aa30629e79f4b": {
          "model_module": "@jupyter-widgets/controls",
          "model_name": "HTMLModel",
          "model_module_version": "1.5.0",
          "state": {
            "_dom_classes": [],
            "_model_module": "@jupyter-widgets/controls",
            "_model_module_version": "1.5.0",
            "_model_name": "HTMLModel",
            "_view_count": null,
            "_view_module": "@jupyter-widgets/controls",
            "_view_module_version": "1.5.0",
            "_view_name": "HTMLView",
            "description": "",
            "description_tooltip": null,
            "layout": "IPY_MODEL_fbbf3963f18c4debbfc9532f6f702a1a",
            "placeholder": "​",
            "style": "IPY_MODEL_03e4df5255a7432c9bb729ddfa1b4daf",
            "value": ""
          }
        },
        "3635b68b215942b28693fc0897065759": {
          "model_module": "@jupyter-widgets/controls",
          "model_name": "FloatProgressModel",
          "model_module_version": "1.5.0",
          "state": {
            "_dom_classes": [],
            "_model_module": "@jupyter-widgets/controls",
            "_model_module_version": "1.5.0",
            "_model_name": "FloatProgressModel",
            "_view_count": null,
            "_view_module": "@jupyter-widgets/controls",
            "_view_module_version": "1.5.0",
            "_view_name": "ProgressView",
            "bar_style": "success",
            "description": "",
            "description_tooltip": null,
            "layout": "IPY_MODEL_42b8bbbb8029469d9c0df40cb95c985d",
            "max": 4542,
            "min": 0,
            "orientation": "horizontal",
            "style": "IPY_MODEL_099b4a964f9e46faa1f265c987ee3a35",
            "value": 4542
          }
        },
        "5a64fa6602b64594863294f5f1859bc7": {
          "model_module": "@jupyter-widgets/controls",
          "model_name": "HTMLModel",
          "model_module_version": "1.5.0",
          "state": {
            "_dom_classes": [],
            "_model_module": "@jupyter-widgets/controls",
            "_model_module_version": "1.5.0",
            "_model_name": "HTMLModel",
            "_view_count": null,
            "_view_module": "@jupyter-widgets/controls",
            "_view_module_version": "1.5.0",
            "_view_name": "HTMLView",
            "description": "",
            "description_tooltip": null,
            "layout": "IPY_MODEL_8a60fe2b39884e528b504c12fb51fdae",
            "placeholder": "​",
            "style": "IPY_MODEL_30d9dd7956b042c7ac0087e660626d0b",
            "value": " 5120/? [00:00&lt;00:00, 100286.91it/s]"
          }
        },
        "82742e7c7acf4b2bb96fc39d8da50928": {
          "model_module": "@jupyter-widgets/base",
          "model_name": "LayoutModel",
          "model_module_version": "1.2.0",
          "state": {
            "_model_module": "@jupyter-widgets/base",
            "_model_module_version": "1.2.0",
            "_model_name": "LayoutModel",
            "_view_count": null,
            "_view_module": "@jupyter-widgets/base",
            "_view_module_version": "1.2.0",
            "_view_name": "LayoutView",
            "align_content": null,
            "align_items": null,
            "align_self": null,
            "border": null,
            "bottom": null,
            "display": null,
            "flex": null,
            "flex_flow": null,
            "grid_area": null,
            "grid_auto_columns": null,
            "grid_auto_flow": null,
            "grid_auto_rows": null,
            "grid_column": null,
            "grid_gap": null,
            "grid_row": null,
            "grid_template_areas": null,
            "grid_template_columns": null,
            "grid_template_rows": null,
            "height": null,
            "justify_content": null,
            "justify_items": null,
            "left": null,
            "margin": null,
            "max_height": null,
            "max_width": null,
            "min_height": null,
            "min_width": null,
            "object_fit": null,
            "object_position": null,
            "order": null,
            "overflow": null,
            "overflow_x": null,
            "overflow_y": null,
            "padding": null,
            "right": null,
            "top": null,
            "visibility": null,
            "width": null
          }
        },
        "fbbf3963f18c4debbfc9532f6f702a1a": {
          "model_module": "@jupyter-widgets/base",
          "model_name": "LayoutModel",
          "model_module_version": "1.2.0",
          "state": {
            "_model_module": "@jupyter-widgets/base",
            "_model_module_version": "1.2.0",
            "_model_name": "LayoutModel",
            "_view_count": null,
            "_view_module": "@jupyter-widgets/base",
            "_view_module_version": "1.2.0",
            "_view_name": "LayoutView",
            "align_content": null,
            "align_items": null,
            "align_self": null,
            "border": null,
            "bottom": null,
            "display": null,
            "flex": null,
            "flex_flow": null,
            "grid_area": null,
            "grid_auto_columns": null,
            "grid_auto_flow": null,
            "grid_auto_rows": null,
            "grid_column": null,
            "grid_gap": null,
            "grid_row": null,
            "grid_template_areas": null,
            "grid_template_columns": null,
            "grid_template_rows": null,
            "height": null,
            "justify_content": null,
            "justify_items": null,
            "left": null,
            "margin": null,
            "max_height": null,
            "max_width": null,
            "min_height": null,
            "min_width": null,
            "object_fit": null,
            "object_position": null,
            "order": null,
            "overflow": null,
            "overflow_x": null,
            "overflow_y": null,
            "padding": null,
            "right": null,
            "top": null,
            "visibility": null,
            "width": null
          }
        },
        "03e4df5255a7432c9bb729ddfa1b4daf": {
          "model_module": "@jupyter-widgets/controls",
          "model_name": "DescriptionStyleModel",
          "model_module_version": "1.5.0",
          "state": {
            "_model_module": "@jupyter-widgets/controls",
            "_model_module_version": "1.5.0",
            "_model_name": "DescriptionStyleModel",
            "_view_count": null,
            "_view_module": "@jupyter-widgets/base",
            "_view_module_version": "1.2.0",
            "_view_name": "StyleView",
            "description_width": ""
          }
        },
        "42b8bbbb8029469d9c0df40cb95c985d": {
          "model_module": "@jupyter-widgets/base",
          "model_name": "LayoutModel",
          "model_module_version": "1.2.0",
          "state": {
            "_model_module": "@jupyter-widgets/base",
            "_model_module_version": "1.2.0",
            "_model_name": "LayoutModel",
            "_view_count": null,
            "_view_module": "@jupyter-widgets/base",
            "_view_module_version": "1.2.0",
            "_view_name": "LayoutView",
            "align_content": null,
            "align_items": null,
            "align_self": null,
            "border": null,
            "bottom": null,
            "display": null,
            "flex": null,
            "flex_flow": null,
            "grid_area": null,
            "grid_auto_columns": null,
            "grid_auto_flow": null,
            "grid_auto_rows": null,
            "grid_column": null,
            "grid_gap": null,
            "grid_row": null,
            "grid_template_areas": null,
            "grid_template_columns": null,
            "grid_template_rows": null,
            "height": null,
            "justify_content": null,
            "justify_items": null,
            "left": null,
            "margin": null,
            "max_height": null,
            "max_width": null,
            "min_height": null,
            "min_width": null,
            "object_fit": null,
            "object_position": null,
            "order": null,
            "overflow": null,
            "overflow_x": null,
            "overflow_y": null,
            "padding": null,
            "right": null,
            "top": null,
            "visibility": null,
            "width": null
          }
        },
        "099b4a964f9e46faa1f265c987ee3a35": {
          "model_module": "@jupyter-widgets/controls",
          "model_name": "ProgressStyleModel",
          "model_module_version": "1.5.0",
          "state": {
            "_model_module": "@jupyter-widgets/controls",
            "_model_module_version": "1.5.0",
            "_model_name": "ProgressStyleModel",
            "_view_count": null,
            "_view_module": "@jupyter-widgets/base",
            "_view_module_version": "1.2.0",
            "_view_name": "StyleView",
            "bar_color": null,
            "description_width": ""
          }
        },
        "8a60fe2b39884e528b504c12fb51fdae": {
          "model_module": "@jupyter-widgets/base",
          "model_name": "LayoutModel",
          "model_module_version": "1.2.0",
          "state": {
            "_model_module": "@jupyter-widgets/base",
            "_model_module_version": "1.2.0",
            "_model_name": "LayoutModel",
            "_view_count": null,
            "_view_module": "@jupyter-widgets/base",
            "_view_module_version": "1.2.0",
            "_view_name": "LayoutView",
            "align_content": null,
            "align_items": null,
            "align_self": null,
            "border": null,
            "bottom": null,
            "display": null,
            "flex": null,
            "flex_flow": null,
            "grid_area": null,
            "grid_auto_columns": null,
            "grid_auto_flow": null,
            "grid_auto_rows": null,
            "grid_column": null,
            "grid_gap": null,
            "grid_row": null,
            "grid_template_areas": null,
            "grid_template_columns": null,
            "grid_template_rows": null,
            "height": null,
            "justify_content": null,
            "justify_items": null,
            "left": null,
            "margin": null,
            "max_height": null,
            "max_width": null,
            "min_height": null,
            "min_width": null,
            "object_fit": null,
            "object_position": null,
            "order": null,
            "overflow": null,
            "overflow_x": null,
            "overflow_y": null,
            "padding": null,
            "right": null,
            "top": null,
            "visibility": null,
            "width": null
          }
        },
        "30d9dd7956b042c7ac0087e660626d0b": {
          "model_module": "@jupyter-widgets/controls",
          "model_name": "DescriptionStyleModel",
          "model_module_version": "1.5.0",
          "state": {
            "_model_module": "@jupyter-widgets/controls",
            "_model_module_version": "1.5.0",
            "_model_name": "DescriptionStyleModel",
            "_view_count": null,
            "_view_module": "@jupyter-widgets/base",
            "_view_module_version": "1.2.0",
            "_view_name": "StyleView",
            "description_width": ""
          }
        }
      }
    }
  },
  "cells": [
    {
      "cell_type": "code",
      "execution_count": 1,
      "metadata": {
        "id": "UEjPljFwS0CS"
      },
      "outputs": [],
      "source": [
        "import torch\n",
        "import numpy\n",
        "import torch.nn as nn\n",
        "import torchvision\n",
        "from torchvision.datasets import MNIST"
      ]
    },
    {
      "cell_type": "code",
      "source": [
        "# Download training dataset\n",
        "dataset = MNIST(root='data/', download = True)"
      ],
      "metadata": {
        "colab": {
          "base_uri": "https://localhost:8080/",
          "height": 423,
          "referenced_widgets": [
            "363ba653861e43429db951335ebdc706",
            "6f10743e120544a3849764a2b5441a02",
            "ab24420024cc4e0a81ca1d272cc26375",
            "27e2d9328f064388958f016603f42613",
            "9a05497b377d458fa860e5c06f2731b7",
            "1621340762934d69bf9e92d1e7c65263",
            "3cc23d36f3224eca9f54ca8fa0925753",
            "ebb5e26b755b46b8ac6152b96eb9050c",
            "ee49e7199ed341059ef8557971cc0ae3",
            "9e20eadb8f414dd8b5e1bbfe8344d8ea",
            "81456ddd4a134d389f73fd1a0c6a7a1f",
            "9baaa89d338b4741b280d277a5bb72e2",
            "f794a505e2d149b88a7a419a6778ce86",
            "94ef1d43a6754671bad68dc049875b51",
            "c0f86b305a824d689d5b31578cb21e44",
            "86a911fa7c6f4e48a9c4b9ce721eed1b",
            "174134d09e144e87b269a25a4199115a",
            "a6ca6e34f65e49c4b9117dccb6a04522",
            "79965e2dd3184bc18483247fa2fa1b0f",
            "a1d82af835934b059ba6c27321aa1102",
            "2a8e3322e822435a87449700b83a0b54",
            "8d518119b42f464580b664c86fbdd0e4",
            "8d9e57f5fe9d4a67935d5e118878618c",
            "e8814f2e06b44893a0031a071b68ed24",
            "6a7ed0e6e4b64b6ca285773809985b07",
            "51e3eaa35ffd4815a3c1ad39bf647c5b",
            "eed7df4fd97c4f7382104f922238f4fe",
            "a96226b6dbc14ca9aab502a5e3d88367",
            "48b991f84f5145b0abb471e2c65de706",
            "9ab9942880d8474fb0f7d1fb3c9e5b6f",
            "0e317ae257db4d858ca3ffd13513d865",
            "cc4933da39a747d18fd85fd2e5ced86c",
            "9bf97c81c97549758667efcdf8acc279",
            "c72eced2162d41f182e14e21744ecbef",
            "ae21f41c483b4f60a62aa30629e79f4b",
            "3635b68b215942b28693fc0897065759",
            "5a64fa6602b64594863294f5f1859bc7",
            "82742e7c7acf4b2bb96fc39d8da50928",
            "fbbf3963f18c4debbfc9532f6f702a1a",
            "03e4df5255a7432c9bb729ddfa1b4daf",
            "42b8bbbb8029469d9c0df40cb95c985d",
            "099b4a964f9e46faa1f265c987ee3a35",
            "8a60fe2b39884e528b504c12fb51fdae",
            "30d9dd7956b042c7ac0087e660626d0b"
          ]
        },
        "id": "8b0QlFsBU8IT",
        "outputId": "441e4abc-501a-4fdb-fe34-a62969fb7575"
      },
      "execution_count": 2,
      "outputs": [
        {
          "output_type": "stream",
          "name": "stdout",
          "text": [
            "Downloading http://yann.lecun.com/exdb/mnist/train-images-idx3-ubyte.gz\n",
            "Downloading http://yann.lecun.com/exdb/mnist/train-images-idx3-ubyte.gz to data/MNIST/raw/train-images-idx3-ubyte.gz\n"
          ]
        },
        {
          "output_type": "display_data",
          "data": {
            "text/plain": [
              "  0%|          | 0/9912422 [00:00<?, ?it/s]"
            ],
            "application/vnd.jupyter.widget-view+json": {
              "version_major": 2,
              "version_minor": 0,
              "model_id": "363ba653861e43429db951335ebdc706"
            }
          },
          "metadata": {}
        },
        {
          "output_type": "stream",
          "name": "stdout",
          "text": [
            "Extracting data/MNIST/raw/train-images-idx3-ubyte.gz to data/MNIST/raw\n",
            "\n",
            "Downloading http://yann.lecun.com/exdb/mnist/train-labels-idx1-ubyte.gz\n",
            "Downloading http://yann.lecun.com/exdb/mnist/train-labels-idx1-ubyte.gz to data/MNIST/raw/train-labels-idx1-ubyte.gz\n"
          ]
        },
        {
          "output_type": "display_data",
          "data": {
            "text/plain": [
              "  0%|          | 0/28881 [00:00<?, ?it/s]"
            ],
            "application/vnd.jupyter.widget-view+json": {
              "version_major": 2,
              "version_minor": 0,
              "model_id": "9baaa89d338b4741b280d277a5bb72e2"
            }
          },
          "metadata": {}
        },
        {
          "output_type": "stream",
          "name": "stdout",
          "text": [
            "Extracting data/MNIST/raw/train-labels-idx1-ubyte.gz to data/MNIST/raw\n",
            "\n",
            "Downloading http://yann.lecun.com/exdb/mnist/t10k-images-idx3-ubyte.gz\n",
            "Downloading http://yann.lecun.com/exdb/mnist/t10k-images-idx3-ubyte.gz to data/MNIST/raw/t10k-images-idx3-ubyte.gz\n"
          ]
        },
        {
          "output_type": "display_data",
          "data": {
            "text/plain": [
              "  0%|          | 0/1648877 [00:00<?, ?it/s]"
            ],
            "application/vnd.jupyter.widget-view+json": {
              "version_major": 2,
              "version_minor": 0,
              "model_id": "8d9e57f5fe9d4a67935d5e118878618c"
            }
          },
          "metadata": {}
        },
        {
          "output_type": "stream",
          "name": "stdout",
          "text": [
            "Extracting data/MNIST/raw/t10k-images-idx3-ubyte.gz to data/MNIST/raw\n",
            "\n",
            "Downloading http://yann.lecun.com/exdb/mnist/t10k-labels-idx1-ubyte.gz\n",
            "Downloading http://yann.lecun.com/exdb/mnist/t10k-labels-idx1-ubyte.gz to data/MNIST/raw/t10k-labels-idx1-ubyte.gz\n"
          ]
        },
        {
          "output_type": "display_data",
          "data": {
            "text/plain": [
              "  0%|          | 0/4542 [00:00<?, ?it/s]"
            ],
            "application/vnd.jupyter.widget-view+json": {
              "version_major": 2,
              "version_minor": 0,
              "model_id": "c72eced2162d41f182e14e21744ecbef"
            }
          },
          "metadata": {}
        },
        {
          "output_type": "stream",
          "name": "stdout",
          "text": [
            "Extracting data/MNIST/raw/t10k-labels-idx1-ubyte.gz to data/MNIST/raw\n",
            "\n"
          ]
        }
      ]
    },
    {
      "cell_type": "code",
      "source": [
        "len(dataset)"
      ],
      "metadata": {
        "colab": {
          "base_uri": "https://localhost:8080/"
        },
        "id": "DWbWA5lvU8LS",
        "outputId": "c0a54ac5-9d2e-420f-e723-25b7ee57b577"
      },
      "execution_count": 3,
      "outputs": [
        {
          "output_type": "execute_result",
          "data": {
            "text/plain": [
              "60000"
            ]
          },
          "metadata": {},
          "execution_count": 3
        }
      ]
    },
    {
      "cell_type": "code",
      "source": [
        "test_dataset = MNIST(root='data/', train = False)\n",
        "len(test_dataset)"
      ],
      "metadata": {
        "colab": {
          "base_uri": "https://localhost:8080/"
        },
        "id": "hVZ1pokcU8N-",
        "outputId": "6d31d5e2-73c2-4cc5-a722-1541b8dd8bf2"
      },
      "execution_count": 4,
      "outputs": [
        {
          "output_type": "execute_result",
          "data": {
            "text/plain": [
              "10000"
            ]
          },
          "metadata": {},
          "execution_count": 4
        }
      ]
    },
    {
      "cell_type": "code",
      "source": [
        "dataset[0]"
      ],
      "metadata": {
        "colab": {
          "base_uri": "https://localhost:8080/"
        },
        "id": "1Bm_HEcaU8Qb",
        "outputId": "43adfc58-21f9-4084-a635-3367f56966ff"
      },
      "execution_count": 5,
      "outputs": [
        {
          "output_type": "execute_result",
          "data": {
            "text/plain": [
              "(<PIL.Image.Image image mode=L size=28x28 at 0x7FD3224EE250>, 5)"
            ]
          },
          "metadata": {},
          "execution_count": 5
        }
      ]
    },
    {
      "cell_type": "code",
      "source": [
        "import matplotlib.pyplot as plt"
      ],
      "metadata": {
        "id": "7FspyOgrU8S-"
      },
      "execution_count": 6,
      "outputs": []
    },
    {
      "cell_type": "code",
      "source": [
        "image, label = dataset[0]\n",
        "plt.imshow(image, cmap='gray')\n",
        "print('Label:',label)"
      ],
      "metadata": {
        "colab": {
          "base_uri": "https://localhost:8080/",
          "height": 282
        },
        "id": "yISpP8nPU8Vb",
        "outputId": "312f1ec2-dbe2-4d3e-a342-0ec76beaebb0"
      },
      "execution_count": 7,
      "outputs": [
        {
          "output_type": "stream",
          "name": "stdout",
          "text": [
            "Label: 5\n"
          ]
        },
        {
          "output_type": "display_data",
          "data": {
            "text/plain": [
              "<Figure size 432x288 with 1 Axes>"
            ],
            "image/png": "[encoded data removed]"
          },
          "metadata": {
            "needs_background": "light"
          }
        }
      ]
    },
    {
      "cell_type": "code",
      "source": [
        "image, label = dataset[10]\n",
        "plt.imshow(image, cmap='gray')\n",
        "print('Label:',label)"
      ],
      "metadata": {
        "colab": {
          "base_uri": "https://localhost:8080/",
          "height": 282
        },
        "id": "EfjDY24fYPge",
        "outputId": "fe1933cb-6c70-4117-f9f0-a4338c976b96"
      },
      "execution_count": 8,
      "outputs": [
        {
          "output_type": "stream",
          "name": "stdout",
          "text": [
            "Label: 3\n"
          ]
        },
        {
          "output_type": "display_data",
          "data": {
            "text/plain": [
              "<Figure size 432x288 with 1 Axes>"
            ],
            "image/png": "[encoded data removed]"
          },
          "metadata": {
            "needs_background": "light"
          }
        }
      ]
    },
    {
      "cell_type": "code",
      "source": [
        "image, label = dataset[1000]\n",
        "plt.imshow(image, cmap='gray')\n",
        "print('Label:',label)"
      ],
      "metadata": {
        "colab": {
          "base_uri": "https://localhost:8080/",
          "height": 282
        },
        "id": "Ee3hq187YPi5",
        "outputId": "5df689b7-38ed-40cd-b810-d186d73f3a85"
      },
      "execution_count": 9,
      "outputs": [
        {
          "output_type": "stream",
          "name": "stdout",
          "text": [
            "Label: 0\n"
          ]
        },
        {
          "output_type": "display_data",
          "data": {
            "text/plain": [
              "<Figure size 432x288 with 1 Axes>"
            ],
            "image/png": "[encoded data removed]"
          },
          "metadata": {
            "needs_background": "light"
          }
        }
      ]
    },
    {
      "cell_type": "code",
      "source": [
        "import torchvision.transforms as transforms"
      ],
      "metadata": {
        "id": "2lVFNnqjYPlr"
      },
      "execution_count": 10,
      "outputs": []
    },
    {
      "cell_type": "code",
      "source": [
        "dataset = MNIST(root='data/', train = True, transform = transforms.ToTensor())"
      ],
      "metadata": {
        "id": "s30ZOn5YYPoQ"
      },
      "execution_count": 11,
      "outputs": []
    },
    {
      "cell_type": "code",
      "source": [
        "img_tensor, label = dataset[0]"
      ],
      "metadata": {
        "id": "jFza4rhaYPrB"
      },
      "execution_count": 12,
      "outputs": []
    },
    {
      "cell_type": "code",
      "source": [
        "print(img_tensor.shape, label)"
      ],
      "metadata": {
        "colab": {
          "base_uri": "https://localhost:8080/"
        },
        "id": "HCWoWwfBYPwj",
        "outputId": "12ab31a6-82ec-4375-c233-8126752bcae1"
      },
      "execution_count": 13,
      "outputs": [
        {
          "output_type": "stream",
          "name": "stdout",
          "text": [
            "torch.Size([1, 28, 28]) 5\n"
          ]
        }
      ]
    },
    {
      "cell_type": "code",
      "source": [
        "print(img_tensor[:,10:15,10:15])\n",
        "print(torch.max(img_tensor), torch.min(img_tensor))"
      ],
      "metadata": {
        "colab": {
          "base_uri": "https://localhost:8080/"
        },
        "id": "mA90obbfYP2e",
        "outputId": "38bf489c-6e94-4707-9218-13ccccf98e5b"
      },
      "execution_count": 14,
      "outputs": [
        {
          "output_type": "stream",
          "name": "stdout",
          "text": [
            "tensor([[[0.0039, 0.6039, 0.9922, 0.3529, 0.0000],\n",
            "         [0.0000, 0.5451, 0.9922, 0.7451, 0.0078],\n",
            "         [0.0000, 0.0431, 0.7451, 0.9922, 0.2745],\n",
            "         [0.0000, 0.0000, 0.1373, 0.9451, 0.8824],\n",
            "         [0.0000, 0.0000, 0.0000, 0.3176, 0.9412]]])\n",
            "tensor(1.) tensor(0.)\n"
          ]
        }
      ]
    },
    {
      "cell_type": "code",
      "source": [
        "plt.imshow(img_tensor[0,10:15,10:15], cmap='gray')"
      ],
      "metadata": {
        "colab": {
          "base_uri": "https://localhost:8080/",
          "height": 282
        },
        "id": "jGriQxQuhPLy",
        "outputId": "90721334-fcf7-4c35-e787-6ca4d9eb9202"
      },
      "execution_count": 15,
      "outputs": [
        {
          "output_type": "execute_result",
          "data": {
            "text/plain": [
              "<matplotlib.image.AxesImage at 0x7fd321f2a5d0>"
            ]
          },
          "metadata": {},
          "execution_count": 15
        },
        {
          "output_type": "display_data",
          "data": {
            "text/plain": [
              "<Figure size 432x288 with 1 Axes>"
            ],
            "image/png": "[encoded data removed]"
          },
          "metadata": {
            "needs_background": "light"
          }
        }
      ]
    },
    {
      "cell_type": "code",
      "source": [
        "n = 60000\n",
        "val_pct = 0.2\n",
        "import numpy as np\n",
        "def split_indices(n, val_pct):\n",
        "  # Determine the size of validation set\n",
        "  n_val = int(n*val_pct)\n",
        "  # Create the random permutation of 0 to n-1\n",
        "  idxs = np.random.permutation(n)\n",
        "  # Pick first n_val indices for validation set\n",
        "  return idxs[n_val:], idxs[:n_val]"
      ],
      "metadata": {
        "id": "TrIJhaZzhPOl"
      },
      "execution_count": 16,
      "outputs": []
    },
    {
      "cell_type": "code",
      "source": [
        "train_indices, val_indices = split_indices(len(dataset), val_pct=0.2)"
      ],
      "metadata": {
        "id": "7Z3W43jPiP5X"
      },
      "execution_count": 17,
      "outputs": []
    },
    {
      "cell_type": "code",
      "source": [
        "print(len(train_indices), len(val_indices))\n",
        "print('Sample val indices: ',val_indices[:20])"
      ],
      "metadata": {
        "colab": {
          "base_uri": "https://localhost:8080/"
        },
        "id": "6psEfFXeiP8r",
        "outputId": "0f5205ba-f5fe-4c2f-8862-573bf774a2a9"
      },
      "execution_count": 18,
      "outputs": [
        {
          "output_type": "stream",
          "name": "stdout",
          "text": [
            "48000 12000\n",
            "Sample val indices:  [38787 58636 22866 47412 36087 56197 43813  1075 46951 48548 46408 13705\n",
            " 39296 19893 28308 20794 21844  7770 47247  3644]\n"
          ]
        }
      ]
    },
    {
      "cell_type": "code",
      "source": [
        "from torch.utils.data.sampler import SubsetRandomSampler\n",
        "from torch.utils.data.dataloader import DataLoader"
      ],
      "metadata": {
        "id": "6HFdBPfyiP_P"
      },
      "execution_count": 19,
      "outputs": []
    },
    {
      "cell_type": "code",
      "source": [
        "batch_size = 100\n",
        "\n",
        "# Training sampler and data loader\n",
        "train_sampler = SubsetRandomSampler(train_indices)\n",
        "train_loader = DataLoader(dataset, batch_size, sampler = train_sampler)\n",
        "\n",
        "val_sampler = SubsetRandomSampler(val_indices)\n",
        "val_loader = DataLoader(dataset, batch_size, sampler = val_sampler)"
      ],
      "metadata": {
        "id": "LmSOiSoFiQCI"
      },
      "execution_count": 20,
      "outputs": []
    },
    {
      "cell_type": "code",
      "source": [
        "input_size = 28*28\n",
        "num_classes = 10\n",
        "\n",
        "model = nn.Linear(input_size,num_classes)"
      ],
      "metadata": {
        "id": "yoJI6j_eiQFI"
      },
      "execution_count": 21,
      "outputs": []
    },
    {
      "cell_type": "code",
      "source": [
        "print(model.weight.shape)\n",
        "print(model.bias.shape)"
      ],
      "metadata": {
        "colab": {
          "base_uri": "https://localhost:8080/"
        },
        "id": "rwOt6h4wiQIX",
        "outputId": "0d1f6951-894a-4472-a609-d2390d2d5154"
      },
      "execution_count": 22,
      "outputs": [
        {
          "output_type": "stream",
          "name": "stdout",
          "text": [
            "torch.Size([10, 784])\n",
            "torch.Size([10])\n"
          ]
        }
      ]
    },
    {
      "cell_type": "code",
      "source": [
        "list(model.parameters())"
      ],
      "metadata": {
        "colab": {
          "base_uri": "https://localhost:8080/"
        },
        "id": "QHtgs8hviQLX",
        "outputId": "0f465ea9-3200-4a91-90a3-52240cb77d54"
      },
      "execution_count": 23,
      "outputs": [
        {
          "output_type": "execute_result",
          "data": {
            "text/plain": [
              "[Parameter containing:\n",
              " tensor([[-0.0008,  0.0186,  0.0242,  ...,  0.0066,  0.0179, -0.0299],\n",
              "         [-0.0099, -0.0053,  0.0317,  ...,  0.0150, -0.0047,  0.0219],\n",
              "         [ 0.0292,  0.0063,  0.0089,  ..., -0.0242,  0.0334, -0.0074],\n",
              "         ...,\n",
              "         [ 0.0313,  0.0197, -0.0241,  ...,  0.0150, -0.0246,  0.0140],\n",
              "         [-0.0323, -0.0201, -0.0296,  ...,  0.0128, -0.0240, -0.0028],\n",
              "         [ 0.0274, -0.0138,  0.0112,  ...,  0.0027,  0.0314,  0.0108]],\n",
              "        requires_grad=True), Parameter containing:\n",
              " tensor([-0.0242, -0.0010, -0.0154, -0.0056, -0.0257,  0.0010, -0.0002,  0.0138,\n",
              "          0.0335,  0.0167], requires_grad=True)]"
            ]
          },
          "metadata": {},
          "execution_count": 23
        }
      ]
    },
    {
      "cell_type": "code",
      "source": [
        "for images, labels in train_loader:\n",
        "  print(labels)\n",
        "  print(images.shape)\n",
        "  break"
      ],
      "metadata": {
        "colab": {
          "base_uri": "https://localhost:8080/"
        },
        "id": "8RtoGuDciQRu",
        "outputId": "28720daf-b927-4eeb-a571-32fe2c83c791"
      },
      "execution_count": 24,
      "outputs": [
        {
          "output_type": "stream",
          "name": "stdout",
          "text": [
            "tensor([3, 2, 6, 8, 4, 1, 5, 5, 2, 8, 1, 8, 3, 6, 1, 3, 9, 1, 8, 0, 2, 2, 2, 0,\n",
            "        2, 6, 7, 1, 7, 0, 5, 5, 2, 4, 4, 2, 6, 0, 1, 3, 7, 1, 7, 0, 2, 7, 2, 3,\n",
            "        5, 7, 0, 1, 6, 8, 5, 8, 6, 5, 1, 0, 2, 8, 9, 6, 5, 4, 6, 1, 7, 4, 5, 5,\n",
            "        9, 2, 3, 1, 4, 7, 4, 4, 9, 7, 5, 5, 9, 1, 1, 3, 8, 5, 2, 4, 0, 2, 6, 3,\n",
            "        2, 3, 8, 6])\n",
            "torch.Size([100, 1, 28, 28])\n"
          ]
        }
      ]
    },
    {
      "cell_type": "code",
      "source": [
        "class MnistModel(nn.Module):\n",
        "  def __init__(self):\n",
        "    super().__init__()\n",
        "    self.linear = nn.Linear(input_size, num_classes)\n",
        "  def forward(self,xb):\n",
        "    xb = xb.reshape(-1,784)\n",
        "    out = self.linear(xb)\n",
        "    return out\n",
        "\n",
        "model = MnistModel()"
      ],
      "metadata": {
        "id": "yTO4G_BgiQUf"
      },
      "execution_count": 25,
      "outputs": []
    },
    {
      "cell_type": "code",
      "source": [
        "list(model.parameters())"
      ],
      "metadata": {
        "colab": {
          "base_uri": "https://localhost:8080/"
        },
        "id": "dIGAK6ZFiQao",
        "outputId": "e77133ad-c3bb-4094-9c34-f4893d5b58fe"
      },
      "execution_count": 26,
      "outputs": [
        {
          "output_type": "execute_result",
          "data": {
            "text/plain": [
              "[Parameter containing:\n",
              " tensor([[ 0.0276,  0.0236,  0.0235,  ..., -0.0119, -0.0333, -0.0056],\n",
              "         [ 0.0030, -0.0224, -0.0321,  ...,  0.0266,  0.0238, -0.0291],\n",
              "         [ 0.0267,  0.0344, -0.0170,  ...,  0.0300, -0.0335, -0.0191],\n",
              "         ...,\n",
              "         [ 0.0031, -0.0254, -0.0309,  ..., -0.0312, -0.0304,  0.0008],\n",
              "         [ 0.0270, -0.0172, -0.0160,  ..., -0.0085,  0.0345, -0.0199],\n",
              "         [-0.0125, -0.0121, -0.0073,  ...,  0.0201, -0.0144,  0.0108]],\n",
              "        requires_grad=True), Parameter containing:\n",
              " tensor([ 0.0235, -0.0298, -0.0145,  0.0320,  0.0350, -0.0126,  0.0063, -0.0291,\n",
              "          0.0121,  0.0275], requires_grad=True)]"
            ]
          },
          "metadata": {},
          "execution_count": 26
        }
      ]
    },
    {
      "cell_type": "code",
      "source": [
        "print(model.linear.weight.shape)\n",
        "print(model.linear.bias.shape)"
      ],
      "metadata": {
        "colab": {
          "base_uri": "https://localhost:8080/"
        },
        "id": "mCLQRcSphPRH",
        "outputId": "0c9d326b-1279-405a-a27c-82e5e9bfd7c9"
      },
      "execution_count": 27,
      "outputs": [
        {
          "output_type": "stream",
          "name": "stdout",
          "text": [
            "torch.Size([10, 784])\n",
            "torch.Size([10])\n"
          ]
        }
      ]
    },
    {
      "cell_type": "code",
      "source": [
        "for images, labels in train_loader:\n",
        "  print(labels)\n",
        "  print(images.shape)\n",
        "  outputs = model(images)\n",
        "  break"
      ],
      "metadata": {
        "colab": {
          "base_uri": "https://localhost:8080/"
        },
        "id": "4YVfr1h8upzJ",
        "outputId": "bdbce18c-815c-409f-b7cd-05dd5482684f"
      },
      "execution_count": 28,
      "outputs": [
        {
          "output_type": "stream",
          "name": "stdout",
          "text": [
            "tensor([1, 6, 4, 7, 0, 8, 1, 5, 7, 9, 9, 3, 9, 6, 8, 9, 0, 5, 7, 7, 7, 6, 7, 6,\n",
            "        7, 7, 6, 2, 5, 2, 7, 3, 6, 5, 8, 8, 2, 8, 9, 1, 0, 3, 0, 6, 4, 4, 5, 0,\n",
            "        0, 5, 5, 4, 0, 1, 3, 1, 2, 5, 9, 4, 5, 1, 4, 6, 9, 1, 1, 5, 4, 2, 1, 2,\n",
            "        7, 3, 4, 9, 7, 7, 8, 7, 6, 1, 5, 9, 7, 0, 9, 9, 7, 9, 4, 2, 4, 4, 5, 2,\n",
            "        8, 5, 8, 7])\n",
            "torch.Size([100, 1, 28, 28])\n"
          ]
        }
      ]
    },
    {
      "cell_type": "code",
      "source": [
        "print(outputs.shape)"
      ],
      "metadata": {
        "colab": {
          "base_uri": "https://localhost:8080/"
        },
        "id": "0yyCQaPzup27",
        "outputId": "34ebb95d-4a65-495e-a45e-c69b1865a657"
      },
      "execution_count": 29,
      "outputs": [
        {
          "output_type": "stream",
          "name": "stdout",
          "text": [
            "torch.Size([100, 10])\n"
          ]
        }
      ]
    },
    {
      "cell_type": "code",
      "source": [
        "import torch.nn.functional as F\n",
        "\n",
        "probs = F.softmax(outputs, dim=1)\n",
        "# Look at sample probabilities\n",
        "print('Sample probabilities: \\n', probs[:2].data)\n",
        "# Add up the sample probabilties of an output row\n",
        "print('Sum: ',torch.sum(probs[0]).item())"
      ],
      "metadata": {
        "colab": {
          "base_uri": "https://localhost:8080/"
        },
        "id": "4ldipDH1up6R",
        "outputId": "182d16d7-2670-4d3a-9aba-ddb16b0731e1"
      },
      "execution_count": 30,
      "outputs": [
        {
          "output_type": "stream",
          "name": "stdout",
          "text": [
            "Sample probabilities: \n",
            " tensor([[0.1232, 0.1087, 0.0936, 0.0961, 0.1106, 0.1082, 0.0922, 0.0865, 0.0797,\n",
            "         0.1012],\n",
            "        [0.1005, 0.1213, 0.1019, 0.0926, 0.0824, 0.0918, 0.1002, 0.0763, 0.0892,\n",
            "         0.1439]])\n",
            "Sum:  1.0000001192092896\n"
          ]
        }
      ]
    },
    {
      "cell_type": "code",
      "source": [
        "max_probs, preds = torch.max(probs, dim=1)\n",
        "print(max_probs)\n",
        "print(preds)"
      ],
      "metadata": {
        "colab": {
          "base_uri": "https://localhost:8080/"
        },
        "id": "CRsqOizR0EU8",
        "outputId": "eff2b1d3-1c11-43fd-f315-33a1317055f4"
      },
      "execution_count": 31,
      "outputs": [
        {
          "output_type": "stream",
          "name": "stdout",
          "text": [
            "tensor([0.1232, 0.1439, 0.1201, 0.1229, 0.1496, 0.1315, 0.1216, 0.1354, 0.1375,\n",
            "        0.1450, 0.1281, 0.1164, 0.1335, 0.1226, 0.1288, 0.1278, 0.1315, 0.1215,\n",
            "        0.1113, 0.1151, 0.1473, 0.1386, 0.1272, 0.1441, 0.1411, 0.1237, 0.1288,\n",
            "        0.1230, 0.1174, 0.1291, 0.1254, 0.1294, 0.1188, 0.1568, 0.1281, 0.1513,\n",
            "        0.1765, 0.1217, 0.1354, 0.1191, 0.1174, 0.1280, 0.1388, 0.1268, 0.1296,\n",
            "        0.1276, 0.1213, 0.1392, 0.1476, 0.1214, 0.1214, 0.1216, 0.1186, 0.1180,\n",
            "        0.1367, 0.1166, 0.1342, 0.1409, 0.1258, 0.1205, 0.1217, 0.1203, 0.1143,\n",
            "        0.1298, 0.1181, 0.1118, 0.1158, 0.1348, 0.1188, 0.1303, 0.1140, 0.1347,\n",
            "        0.1147, 0.1242, 0.1338, 0.1362, 0.1223, 0.1532, 0.1265, 0.1403, 0.1290,\n",
            "        0.1368, 0.1145, 0.1159, 0.1259, 0.1186, 0.1162, 0.1557, 0.1303, 0.1356,\n",
            "        0.1389, 0.1281, 0.1265, 0.1318, 0.1343, 0.1438, 0.1434, 0.1207, 0.1198,\n",
            "        0.1372], grad_fn=<MaxBackward0>)\n",
            "tensor([0, 9, 8, 8, 8, 9, 8, 9, 5, 8, 5, 4, 5, 9, 4, 8, 3, 2, 6, 0, 8, 1, 5, 0,\n",
            "        5, 9, 2, 8, 6, 0, 5, 3, 0, 4, 3, 0, 8, 8, 5, 0, 8, 3, 8, 8, 9, 9, 6, 8,\n",
            "        8, 6, 8, 0, 8, 9, 5, 0, 1, 3, 8, 9, 9, 4, 9, 9, 8, 6, 0, 3, 5, 8, 5, 5,\n",
            "        0, 9, 9, 8, 5, 8, 6, 5, 0, 4, 8, 4, 5, 3, 4, 5, 5, 9, 9, 3, 3, 2, 8, 1,\n",
            "        9, 4, 5, 5])\n"
          ]
        }
      ]
    },
    {
      "cell_type": "code",
      "source": [
        "labels"
      ],
      "metadata": {
        "colab": {
          "base_uri": "https://localhost:8080/"
        },
        "id": "E-BSuNtM0EX1",
        "outputId": "b3bed9ed-a42a-48ce-e6fa-793a08a3331f"
      },
      "execution_count": 32,
      "outputs": [
        {
          "output_type": "execute_result",
          "data": {
            "text/plain": [
              "tensor([1, 6, 4, 7, 0, 8, 1, 5, 7, 9, 9, 3, 9, 6, 8, 9, 0, 5, 7, 7, 7, 6, 7, 6,\n",
              "        7, 7, 6, 2, 5, 2, 7, 3, 6, 5, 8, 8, 2, 8, 9, 1, 0, 3, 0, 6, 4, 4, 5, 0,\n",
              "        0, 5, 5, 4, 0, 1, 3, 1, 2, 5, 9, 4, 5, 1, 4, 6, 9, 1, 1, 5, 4, 2, 1, 2,\n",
              "        7, 3, 4, 9, 7, 7, 8, 7, 6, 1, 5, 9, 7, 0, 9, 9, 7, 9, 4, 2, 4, 4, 5, 2,\n",
              "        8, 5, 8, 7])"
            ]
          },
          "metadata": {},
          "execution_count": 32
        }
      ]
    },
    {
      "cell_type": "code",
      "source": [
        "def accuracy(l1,l2):\n",
        "  return torch.sum(l1 == l2).item()/ len(l1)"
      ],
      "metadata": {
        "id": "MMX8gEM_0Ea7"
      },
      "execution_count": 33,
      "outputs": []
    },
    {
      "cell_type": "code",
      "source": [
        "accuracy(preds,labels)"
      ],
      "metadata": {
        "colab": {
          "base_uri": "https://localhost:8080/"
        },
        "id": "ZE0AyasP0Egh",
        "outputId": "6c0c8ab8-7e98-4e5a-8710-3856d09e2dc7"
      },
      "execution_count": 34,
      "outputs": [
        {
          "output_type": "execute_result",
          "data": {
            "text/plain": [
              "0.04"
            ]
          },
          "metadata": {},
          "execution_count": 34
        }
      ]
    },
    {
      "cell_type": "code",
      "source": [
        "loss_fn = F.cross_entropy"
      ],
      "metadata": {
        "id": "YS6xUNGB0EmQ"
      },
      "execution_count": 35,
      "outputs": []
    },
    {
      "cell_type": "code",
      "source": [
        "# Loss for current batch of data\n",
        "loss = loss_fn(outputs, labels)"
      ],
      "metadata": {
        "id": "5FCzVhzh0ErX"
      },
      "execution_count": 36,
      "outputs": []
    },
    {
      "cell_type": "code",
      "source": [
        "loss"
      ],
      "metadata": {
        "colab": {
          "base_uri": "https://localhost:8080/"
        },
        "id": "sG86QiMI0Ezm",
        "outputId": "6b301664-6bb0-43be-f2a2-eb4c1c37295f"
      },
      "execution_count": 37,
      "outputs": [
        {
          "output_type": "execute_result",
          "data": {
            "text/plain": [
              "tensor(2.3521, grad_fn=<NllLossBackward0>)"
            ]
          },
          "metadata": {},
          "execution_count": 37
        }
      ]
    },
    {
      "cell_type": "code",
      "source": [
        "learning_rate = 0.001\n",
        "optimizer = torch.optim.SGD(model.parameters(), lr=learning_rate)"
      ],
      "metadata": {
        "id": "R2Udh7eyup-L"
      },
      "execution_count": 38,
      "outputs": []
    },
    {
      "cell_type": "code",
      "source": [
        "def loss_batch(model, loss_func, xb, yb, opt = None, metric = None):\n",
        "  # Calculate loss\n",
        "  preds = model(xb)\n",
        "  loss = loss_func(preds, yb)\n",
        "  if opt is not None:\n",
        "    # Compute gradients\n",
        "    loss.backward()\n",
        "    # Updating the gradients\n",
        "    opt.step()\n",
        "    # Reset the gradients\n",
        "    opt.zero_grad()\n",
        "  metric_result = None\n",
        "  if metric is not None:\n",
        "    # Compute metric\n",
        "    metric_result = metric(preds, yb)\n",
        "  return loss.item(), len(xb), metric_result"
      ],
      "metadata": {
        "id": "eB0tHjuJ7I86"
      },
      "execution_count": 39,
      "outputs": []
    },
    {
      "cell_type": "code",
      "source": [
        "def evaluate(model, loss_func, valid_dl, metric = None):\n",
        "  with torch.no_grad():\n",
        "    # Pass each batch through the model\n",
        "    results = [loss_batch(model, loss_func,xb, yb, metric = metric)\n",
        "    for xb,yb in valid_dl]\n",
        "    # Seperate losses, counts and metrics\n",
        "    losses, nums, metrics = zip(*results)\n",
        "    # Total size of the dataset\n",
        "    total = np.sum(nums)\n",
        "    # Avg loss across batches\n",
        "    avg_loss = np.sum(np.multiply(losses, nums))/ total\n",
        "    avg_metric  = None\n",
        "    if metric is not None:\n",
        "      # Avg of metric across batches\n",
        "      avg_metric = np.sum(np.multiply(metrics, nums)) / total\n",
        "  return avg_loss, total, avg_metric"
      ],
      "metadata": {
        "id": "EQX7O29k7JAI"
      },
      "execution_count": 40,
      "outputs": []
    },
    {
      "cell_type": "code",
      "source": [
        "def accuracy(outputs, labels):\n",
        "  _, preds = torch.max(outputs, dim=1)\n",
        "  return torch.sum(preds == labels).item() / len(preds)"
      ],
      "metadata": {
        "id": "NPp4Aihf7JDQ"
      },
      "execution_count": 41,
      "outputs": []
    },
    {
      "cell_type": "code",
      "source": [
        "val_loss, total, val_acc = evaluate(model, loss_fn, val_loader, metric = accuracy)\n",
        "print('Loss: {:.4f}, Accuracy: {:.4f}'.format(val_loss, val_acc))"
      ],
      "metadata": {
        "colab": {
          "base_uri": "https://localhost:8080/"
        },
        "id": "UBskO5UI7JGY",
        "outputId": "4686f2f7-cfe8-41d4-efd3-23cc82561dd7"
      },
      "execution_count": 42,
      "outputs": [
        {
          "output_type": "stream",
          "name": "stdout",
          "text": [
            "Loss: 2.3206, Accuracy: 0.1052\n"
          ]
        }
      ]
    },
    {
      "cell_type": "code",
      "source": [
        "def fit(epochs, model, loss_fn, opt, train_dl, valid_dl, metric = None):\n",
        "  for epoch in range(epochs):\n",
        "    # Training\n",
        "    for xb,yb in train_dl:\n",
        "      loss,_,_ = loss_batch(model, loss_fn, xb, yb, opt)\n",
        "\n",
        "    # Evaluation\n",
        "    result = evaluate(model, loss_fn, valid_dl,metric)\n",
        "    val_loss, total, val_metric = result\n",
        "\n",
        "    # Print progress\n",
        "    if metric is None:\n",
        "      print('Epoch [{}/{}], Loss: {:.4f}'.format(epoch+1, epochs, val_loss))\n",
        "    else:\n",
        "      print('Epoch [{}/{}], Loss: {:.4f}, {}: {:.4f}'.format(epoch+1, epochs, val_loss, metric.__name__,val_metric))"
      ],
      "metadata": {
        "id": "-qqwWfhG7JJg"
      },
      "execution_count": 47,
      "outputs": []
    },
    {
      "cell_type": "code",
      "source": [
        "# Redefine model and optimizer\n",
        "model = MnistModel()\n",
        "optimizer = torch.optim.SGD(model.parameters(), lr=learning_rate)"
      ],
      "metadata": {
        "id": "cYtobD_SzoZr"
      },
      "execution_count": 48,
      "outputs": []
    },
    {
      "cell_type": "code",
      "source": [
        "fit(5,model, F.cross_entropy, optimizer, train_loader, val_loader, accuracy)"
      ],
      "metadata": {
        "colab": {
          "base_uri": "https://localhost:8080/"
        },
        "id": "-SGFukSozocM",
        "outputId": "514909b0-2db0-486b-9a6d-6bbd0c74b79c"
      },
      "execution_count": 49,
      "outputs": [
        {
          "output_type": "stream",
          "name": "stdout",
          "text": [
            "Epoch [1/5], Loss: 1.8711, accuracy: 0.6696\n",
            "Epoch [2/5], Loss: 1.5726, accuracy: 0.7488\n",
            "Epoch [3/5], Loss: 1.3628, accuracy: 0.7792\n",
            "Epoch [4/5], Loss: 1.2120, accuracy: 0.7974\n",
            "Epoch [5/5], Loss: 1.1001, accuracy: 0.8087\n"
          ]
        }
      ]
    },
    {
      "cell_type": "code",
      "source": [
        "fit(5,model, F.cross_entropy, optimizer, train_loader, val_loader, accuracy)"
      ],
      "metadata": {
        "colab": {
          "base_uri": "https://localhost:8080/"
        },
        "id": "89xOuDsVzoiy",
        "outputId": "2b3763ff-3c0d-4ffc-b8b5-5e00a16b4e6e"
      },
      "execution_count": 50,
      "outputs": [
        {
          "output_type": "stream",
          "name": "stdout",
          "text": [
            "Epoch [1/5], Loss: 1.0146, accuracy: 0.8164\n",
            "Epoch [2/5], Loss: 0.9472, accuracy: 0.8220\n",
            "Epoch [3/5], Loss: 0.8929, accuracy: 0.8267\n",
            "Epoch [4/5], Loss: 0.8481, accuracy: 0.8304\n",
            "Epoch [5/5], Loss: 0.8106, accuracy: 0.8336\n"
          ]
        }
      ]
    },
    {
      "cell_type": "code",
      "source": [
        "fit(5,model, F.cross_entropy, optimizer, train_loader, val_loader, accuracy)"
      ],
      "metadata": {
        "colab": {
          "base_uri": "https://localhost:8080/"
        },
        "id": "75SR_0Z4zonC",
        "outputId": "d097f181-70c6-495a-a63b-966c8afcb3f4"
      },
      "execution_count": 51,
      "outputs": [
        {
          "output_type": "stream",
          "name": "stdout",
          "text": [
            "Epoch [1/5], Loss: 0.7786, accuracy: 0.8377\n",
            "Epoch [2/5], Loss: 0.7511, accuracy: 0.8410\n",
            "Epoch [3/5], Loss: 0.7270, accuracy: 0.8444\n",
            "Epoch [4/5], Loss: 0.7059, accuracy: 0.8463\n",
            "Epoch [5/5], Loss: 0.6870, accuracy: 0.8484\n"
          ]
        }
      ]
    },
    {
      "cell_type": "code",
      "source": [
        "fit(5,model, F.cross_entropy, optimizer, train_loader, val_loader, accuracy)"
      ],
      "metadata": {
        "colab": {
          "base_uri": "https://localhost:8080/"
        },
        "id": "Mxm5i57tzorH",
        "outputId": "230465ff-0215-4bb5-e5f7-610243a581be"
      },
      "execution_count": 52,
      "outputs": [
        {
          "output_type": "stream",
          "name": "stdout",
          "text": [
            "Epoch [1/5], Loss: 0.6702, accuracy: 0.8502\n",
            "Epoch [2/5], Loss: 0.6550, accuracy: 0.8522\n",
            "Epoch [3/5], Loss: 0.6412, accuracy: 0.8536\n",
            "Epoch [4/5], Loss: 0.6287, accuracy: 0.8545\n",
            "Epoch [5/5], Loss: 0.6172, accuracy: 0.8568\n"
          ]
        }
      ]
    },
    {
      "cell_type": "code",
      "source": [
        "fit(5,model, F.cross_entropy, optimizer, train_loader, val_loader, accuracy)"
      ],
      "metadata": {
        "colab": {
          "base_uri": "https://localhost:8080/"
        },
        "id": "wfd_paZ53dai",
        "outputId": "af2f9812-2523-4528-e387-46612d26fccd"
      },
      "execution_count": 53,
      "outputs": [
        {
          "output_type": "stream",
          "name": "stdout",
          "text": [
            "Epoch [1/5], Loss: 0.6066, accuracy: 0.8584\n",
            "Epoch [2/5], Loss: 0.5968, accuracy: 0.8595\n",
            "Epoch [3/5], Loss: 0.5877, accuracy: 0.8608\n",
            "Epoch [4/5], Loss: 0.5794, accuracy: 0.8613\n",
            "Epoch [5/5], Loss: 0.5715, accuracy: 0.8622\n"
          ]
        }
      ]
    },
    {
      "cell_type": "code",
      "source": [
        "# Testing with individual images"
      ],
      "metadata": {
        "id": "_sb25iQz4DP3"
      },
      "execution_count": 54,
      "outputs": []
    },
    {
      "cell_type": "code",
      "source": [
        "test_dataset = MNIST(root='data/', train = False, transform = transforms.ToTensor())"
      ],
      "metadata": {
        "id": "HTWXjve45f-2"
      },
      "execution_count": 63,
      "outputs": []
    },
    {
      "cell_type": "code",
      "source": [
        "img, label = test_dataset[0]\n",
        "plt.imshow(img[0], cmap= 'gray')\n",
        "print('Shape:', img.shape)\n",
        "print('Label:',label)"
      ],
      "metadata": {
        "colab": {
          "base_uri": "https://localhost:8080/",
          "height": 300
        },
        "id": "lzlhb0sU53WQ",
        "outputId": "bc74a66b-b94b-4cfa-e4db-de098254485b"
      },
      "execution_count": 67,
      "outputs": [
        {
          "output_type": "stream",
          "name": "stdout",
          "text": [
            "Shape: torch.Size([1, 28, 28])\n",
            "Label: 7\n"
          ]
        },
        {
          "output_type": "display_data",
          "data": {
            "text/plain": [
              "<Figure size 432x288 with 1 Axes>"
            ],
            "image/png": "[encoded data removed]"
          },
          "metadata": {
            "needs_background": "light"
          }
        }
      ]
    },
    {
      "cell_type": "code",
      "source": [
        "def predict_image(img, model):\n",
        "  xb = img.unsqueeze(0)\n",
        "  yb = model(xb)\n",
        "  _, preds = torch.max(yb, dim=1)\n",
        "  return preds[0].item()"
      ],
      "metadata": {
        "id": "EZG9DMtf4D2h"
      },
      "execution_count": 68,
      "outputs": []
    },
    {
      "cell_type": "code",
      "source": [
        "predict_image(img,model)"
      ],
      "metadata": {
        "colab": {
          "base_uri": "https://localhost:8080/"
        },
        "id": "k9iZRVET4t8w",
        "outputId": "b980b4ee-11cf-4f89-b305-92661f93d1ce"
      },
      "execution_count": 69,
      "outputs": [
        {
          "output_type": "execute_result",
          "data": {
            "text/plain": [
              "7"
            ]
          },
          "metadata": {},
          "execution_count": 69
        }
      ]
    },
    {
      "cell_type": "code",
      "source": [
        ""
      ],
      "metadata": {
        "id": "Mul1LULO5Wq0"
      },
      "execution_count": null,
      "outputs": []
    }
  ]
}