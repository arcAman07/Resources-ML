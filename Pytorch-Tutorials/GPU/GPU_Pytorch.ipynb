{
  "nbformat": 4,
  "nbformat_minor": 0,
  "metadata": {
    "colab": {
      "name": "GPU-Pytorch.ipynb",
      "provenance": []
    },
    "kernelspec": {
      "name": "python3",
      "display_name": "Python 3"
    },
    "language_info": {
      "name": "python"
    },
    "accelerator": "GPU"
  },
  "cells": [
    {
      "cell_type": "code",
      "execution_count": 1,
      "metadata": {
        "id": "ruMEP3YbWXn-"
      },
      "outputs": [],
      "source": [
        "import torch"
      ]
    },
    {
      "cell_type": "code",
      "source": [
        "torch.cuda.is_available()"
      ],
      "metadata": {
        "colab": {
          "base_uri": "https://localhost:8080/"
        },
        "id": "FinadOwKhl_4",
        "outputId": "7a22bc9c-6f81-4cc6-9e25-382a02a25fd3"
      },
      "execution_count": 2,
      "outputs": [
        {
          "output_type": "execute_result",
          "data": {
            "text/plain": [
              "True"
            ]
          },
          "metadata": {},
          "execution_count": 2
        }
      ]
    },
    {
      "cell_type": "code",
      "source": [
        "def get_default_device():\n",
        "  # Pick GPU if available otherwise CPU\n",
        "  if torch.cuda.is_available():\n",
        "    return torch.device('cuda')\n",
        "  else:\n",
        "    torch.device('cpu')"
      ],
      "metadata": {
        "id": "lqAt8g7ghmDA"
      },
      "execution_count": 3,
      "outputs": []
    },
    {
      "cell_type": "code",
      "source": [
        "device = get_default_device()\n",
        "print(device)"
      ],
      "metadata": {
        "colab": {
          "base_uri": "https://localhost:8080/"
        },
        "id": "qAB51D4AhmGC",
        "outputId": "c80f986b-f79d-4102-cf31-1682fbc376df"
      },
      "execution_count": 4,
      "outputs": [
        {
          "output_type": "stream",
          "name": "stdout",
          "text": [
            "cuda\n"
          ]
        }
      ]
    },
    {
      "cell_type": "code",
      "source": [
        "# Now let's define a function that can move data and model to a chosen device"
      ],
      "metadata": {
        "id": "9JvobDafhmI8"
      },
      "execution_count": 5,
      "outputs": []
    },
    {
      "cell_type": "code",
      "source": [
        "def to_device(data, device):\n",
        "  # Move tensors to chosen device\n",
        "  if isinstance(data, list(tuple)):\n",
        "    return [to_device(x, device) for x in data]\n",
        "  return data.to(device, non_blocking = True)"
      ],
      "metadata": {
        "id": "UlIMz2lWhmL3"
      },
      "execution_count": 6,
      "outputs": []
    },
    {
      "cell_type": "code",
      "source": [
        "class DeviceDataLoader():\n",
        "  # Wrap a dataloader to move data to a device\n",
        "  def __init__(self,dl,device):\n",
        "    self.dl = dl\n",
        "    self.device = device\n",
        "  def __iter__(self):\n",
        "    # Yield a batch of data after moving it to device\n",
        "    for b in self.dl:\n",
        "      yield to_device(b, self.device)\n",
        "  def __len__(self):\n",
        "    # Number of batches\n",
        "    return len(self.dl)"
      ],
      "metadata": {
        "id": "OCBZ3lm-hmOd"
      },
      "execution_count": 7,
      "outputs": []
    }
  ]
}